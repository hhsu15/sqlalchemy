{
 "cells": [
  {
   "cell_type": "markdown",
   "id": "2f715028",
   "metadata": {},
   "source": [
    "# Define Table"
   ]
  },
  {
   "cell_type": "code",
   "execution_count": 43,
   "id": "8f6e3ed9",
   "metadata": {},
   "outputs": [
    {
     "name": "stdout",
     "output_type": "stream",
     "text": [
      "2024-03-17 16:58:03,853 INFO sqlalchemy.engine.base.Engine SELECT CAST('test plain returns' AS VARCHAR(60)) AS anon_1\n",
      "2024-03-17 16:58:03,854 INFO sqlalchemy.engine.base.Engine ()\n",
      "2024-03-17 16:58:03,855 INFO sqlalchemy.engine.base.Engine SELECT CAST('test unicode returns' AS VARCHAR(60)) AS anon_1\n",
      "2024-03-17 16:58:03,856 INFO sqlalchemy.engine.base.Engine ()\n",
      "2024-03-17 16:58:03,858 INFO sqlalchemy.engine.base.Engine PRAGMA main.table_info(\"pmt_users\")\n",
      "2024-03-17 16:58:03,859 INFO sqlalchemy.engine.base.Engine ()\n",
      "2024-03-17 16:58:03,861 INFO sqlalchemy.engine.base.Engine PRAGMA temp.table_info(\"pmt_users\")\n",
      "2024-03-17 16:58:03,862 INFO sqlalchemy.engine.base.Engine ()\n",
      "2024-03-17 16:58:03,867 INFO sqlalchemy.engine.base.Engine \n",
      "CREATE TABLE pmt_users (\n",
      "\temail VARCHAR NOT NULL, \n",
      "\tusername VARCHAR NOT NULL, \n",
      "\tpassword VARCHAR NOT NULL, \n",
      "\tsec_groups VARCHAR, \n",
      "\tPRIMARY KEY (email)\n",
      ")\n",
      "\n",
      "\n",
      "2024-03-17 16:58:03,870 INFO sqlalchemy.engine.base.Engine ()\n",
      "2024-03-17 16:58:03,877 INFO sqlalchemy.engine.base.Engine COMMIT\n"
     ]
    }
   ],
   "source": [
    "from sqlalchemy import create_engine, MetaData\n",
    "from sqlalchemy import Column, Integer, String\n",
    "from sqlalchemy.ext.declarative import declarative_base\n",
    "from sqlalchemy.orm import sessionmaker\n",
    "\n",
    "\n",
    "engine = create_engine('sqlite:///pmt.db', echo = True)\n",
    "Session = sessionmaker(bind=engine)\n",
    "sess = Session()\n",
    "\n",
    "metadata = MetaData()\n",
    "Base = declarative_base(metadata=metadata)\n",
    "\n",
    "class PMT_USERS(Base):\n",
    "    __tablename__ = 'pmt_users'\n",
    "    email = Column(String, primary_key=True)\n",
    "    username =  Column(String, nullable=False)\n",
    "    password = Column(String, nullable=False)\n",
    "    sec_groups = Column(String)\n",
    "    \n",
    "Base.metadata.create_all(engine)"
   ]
  },
  {
   "cell_type": "code",
   "execution_count": 66,
   "id": "0465f5d7",
   "metadata": {},
   "outputs": [],
   "source": [
    "user_1 = PMT_USERS(email='test@test.com', username='test', password=\"abc123\", sec_groups='[]')"
   ]
  },
  {
   "cell_type": "code",
   "execution_count": 67,
   "id": "569216be",
   "metadata": {},
   "outputs": [],
   "source": [
    "# perssist the user to the session - staging\n",
    "sess.add(user_1)"
   ]
  },
  {
   "cell_type": "code",
   "execution_count": 68,
   "id": "c3aa5b11",
   "metadata": {},
   "outputs": [
    {
     "name": "stdout",
     "output_type": "stream",
     "text": [
      "2024-03-17 11:54:11,454 INFO sqlalchemy.engine.base.Engine BEGIN (implicit)\n",
      "2024-03-17 11:54:11,456 INFO sqlalchemy.engine.base.Engine INSERT INTO pmt_users (email, username, password, sec_groups) VALUES (?, ?, ?, ?)\n",
      "2024-03-17 11:54:11,457 INFO sqlalchemy.engine.base.Engine ('test@test.com', 'test', 'abc123', '[]')\n",
      "2024-03-17 11:54:11,463 INFO sqlalchemy.engine.base.Engine SELECT pmt_users.email AS pmt_users_email, pmt_users.username AS pmt_users_username, pmt_users.password AS pmt_users_password, pmt_users.sec_groups AS pmt_users_sec_groups \n",
      "FROM pmt_users \n",
      "WHERE pmt_users.username = ?\n",
      " LIMIT ? OFFSET ?\n",
      "2024-03-17 11:54:11,466 INFO sqlalchemy.engine.base.Engine ('test', 1, 0)\n"
     ]
    }
   ],
   "source": [
    "pmt_user_1 = sess.query(PMT_USERS).filter_by(username='test').first()"
   ]
  },
  {
   "cell_type": "code",
   "execution_count": 70,
   "id": "fa7bca10",
   "metadata": {},
   "outputs": [
    {
     "data": {
      "text/plain": [
       "'test'"
      ]
     },
     "execution_count": 70,
     "metadata": {},
     "output_type": "execute_result"
    }
   ],
   "source": [
    "pmt_user_1.username"
   ]
  },
  {
   "cell_type": "code",
   "execution_count": 71,
   "id": "8a843649",
   "metadata": {},
   "outputs": [
    {
     "name": "stdout",
     "output_type": "stream",
     "text": [
      "2024-03-17 11:55:11,665 INFO sqlalchemy.engine.base.Engine COMMIT\n"
     ]
    }
   ],
   "source": [
    "# commit to db\n",
    "sess.commit()"
   ]
  },
  {
   "cell_type": "code",
   "execution_count": 78,
   "id": "9892e8dc",
   "metadata": {
    "scrolled": true
   },
   "outputs": [
    {
     "name": "stdout",
     "output_type": "stream",
     "text": [
      "2024-03-17 11:59:17,601 INFO sqlalchemy.engine.base.Engine SELECT pmt_users.email AS pmt_users_email, pmt_users.username AS pmt_users_username \n",
      "FROM pmt_users\n",
      "2024-03-17 11:59:17,603 INFO sqlalchemy.engine.base.Engine ()\n",
      "test@test.com test\n"
     ]
    }
   ],
   "source": [
    "for email, username in sess.query(PMT_USERS.email, PMT_USERS.username):\n",
    "    print(email, username)\n",
    "    "
   ]
  },
  {
   "cell_type": "code",
   "execution_count": 75,
   "id": "46010851",
   "metadata": {},
   "outputs": [
    {
     "data": {
      "text/plain": [
       "<sqlalchemy.orm.query.Query at 0x113e60e80>"
      ]
     },
     "execution_count": 75,
     "metadata": {},
     "output_type": "execute_result"
    }
   ],
   "source": [
    "users"
   ]
  },
  {
   "cell_type": "code",
   "execution_count": 76,
   "id": "6b436b4a",
   "metadata": {},
   "outputs": [
    {
     "name": "stdout",
     "output_type": "stream",
     "text": [
      "2024-03-17 11:56:33,288 INFO sqlalchemy.engine.base.Engine BEGIN (implicit)\n",
      "2024-03-17 11:56:33,290 INFO sqlalchemy.engine.base.Engine SELECT pmt_users.email AS pmt_users_email, pmt_users.username AS pmt_users_username, pmt_users.password AS pmt_users_password, pmt_users.sec_groups AS pmt_users_sec_groups \n",
      "FROM pmt_users\n",
      "2024-03-17 11:56:33,291 INFO sqlalchemy.engine.base.Engine ()\n",
      "<__main__.PMT_USERS object at 0x11429eb38>\n"
     ]
    }
   ],
   "source": [
    "for i in users:\n",
    "    print(i)"
   ]
  },
  {
   "cell_type": "code",
   "execution_count": 79,
   "id": "e62d8e20",
   "metadata": {},
   "outputs": [
    {
     "name": "stdout",
     "output_type": "stream",
     "text": [
      "2024-03-17 12:00:57,971 INFO sqlalchemy.engine.base.Engine ROLLBACK\n"
     ]
    }
   ],
   "source": [
    "sess.close()"
   ]
  },
  {
   "cell_type": "code",
   "execution_count": 88,
   "id": "32517f6c",
   "metadata": {},
   "outputs": [],
   "source": [
    "sess.close()"
   ]
  },
  {
   "cell_type": "markdown",
   "id": "5c5c300c",
   "metadata": {},
   "source": [
    "# Map table"
   ]
  },
  {
   "cell_type": "code",
   "execution_count": 44,
   "id": "5fc5b144",
   "metadata": {},
   "outputs": [],
   "source": [
    "# For existing db\n",
    "from sqlalchemy import create_engine, MetaData\n",
    "from sqlalchemy import Column, Integer, String\n",
    "from sqlalchemy.ext.declarative import declarative_base\n",
    "from sqlalchemy.orm import sessionmaker\n",
    "\n",
    "\n",
    "engine = create_engine('sqlite:///pmt.db', echo=False)\n",
    "\n",
    "# metadata = MetaData()\n",
    "Base = declarative_base()\n",
    "\n",
    "class PMT_USER(Base):\n",
    "    __tablename__ = 'pmt_users'\n",
    "    email = Column(String, primary_key=True)\n",
    "    username =  Column(String)\n",
    "    password = Column(String)\n",
    "    sec_groups = Column(String)\n",
    "    \n",
    "# Base.metadata.create_all(engine)\n",
    "\n",
    "Session = sessionmaker(bind=engine)\n",
    "sess = Session()"
   ]
  },
  {
   "cell_type": "code",
   "execution_count": 40,
   "id": "f86bdb1f",
   "metadata": {},
   "outputs": [],
   "source": [
    "Column?"
   ]
  },
  {
   "cell_type": "markdown",
   "id": "91ac785b",
   "metadata": {},
   "source": [
    "# Add users"
   ]
  },
  {
   "cell_type": "code",
   "execution_count": 93,
   "id": "4d4e8bcb",
   "metadata": {},
   "outputs": [],
   "source": [
    "# add 1 user\n",
    "sess.add(PMT_USER(email=\"test2@test.com\", username=\"test2\", password=\"abc111\", sec_groups='[]'))"
   ]
  },
  {
   "cell_type": "code",
   "execution_count": 96,
   "id": "bd162e1d",
   "metadata": {},
   "outputs": [],
   "source": [
    "sess.commit()"
   ]
  },
  {
   "cell_type": "code",
   "execution_count": 97,
   "id": "52c1a31d",
   "metadata": {},
   "outputs": [],
   "source": [
    "# add multiple users\n",
    "sess.add_all(\n",
    "    [\n",
    "        PMT_USER(email=\"test3@test.com\", username=\"test3\", password=\"abc111\", sec_groups='[]'),\n",
    "        PMT_USER(email=\"test4@test.com\", username=\"test4\", password=\"abc111\", sec_groups='[]')\n",
    "    ]\n",
    ")"
   ]
  },
  {
   "cell_type": "markdown",
   "id": "57a5365b",
   "metadata": {},
   "source": [
    "# Get users"
   ]
  },
  {
   "cell_type": "code",
   "execution_count": 7,
   "id": "b8e0eeb1",
   "metadata": {},
   "outputs": [],
   "source": [
    "# all users\n",
    "users = sess.query(PMT_USER)\n"
   ]
  },
  {
   "cell_type": "code",
   "execution_count": 8,
   "id": "c1768df5",
   "metadata": {},
   "outputs": [],
   "source": [
    "# you can see it in stage\n",
    "user2 = sess.query(PMT_USER).filter_by(username='test2').first()"
   ]
  },
  {
   "cell_type": "markdown",
   "id": "d0ea2001",
   "metadata": {},
   "source": [
    "# Update "
   ]
  },
  {
   "cell_type": "code",
   "execution_count": 121,
   "id": "57a60078",
   "metadata": {},
   "outputs": [],
   "source": [
    "# set values for use using the setter\n",
    "user2.password = 'aaa111'"
   ]
  },
  {
   "cell_type": "code",
   "execution_count": 122,
   "id": "bbb64ee7",
   "metadata": {},
   "outputs": [
    {
     "data": {
      "text/plain": [
       "'aaa111'"
      ]
     },
     "execution_count": 122,
     "metadata": {},
     "output_type": "execute_result"
    }
   ],
   "source": [
    "user2.password"
   ]
  },
  {
   "cell_type": "code",
   "execution_count": 123,
   "id": "d17e0049",
   "metadata": {},
   "outputs": [],
   "source": [
    "sess.commit()"
   ]
  },
  {
   "cell_type": "code",
   "execution_count": 124,
   "id": "d871291f",
   "metadata": {},
   "outputs": [],
   "source": [
    "user2 = sess.query(PMT_USER).filter_by(username='test2').first()"
   ]
  },
  {
   "cell_type": "code",
   "execution_count": 125,
   "id": "f7c09fcb",
   "metadata": {},
   "outputs": [
    {
     "data": {
      "text/plain": [
       "'aaa111'"
      ]
     },
     "execution_count": 125,
     "metadata": {},
     "output_type": "execute_result"
    }
   ],
   "source": [
    "user2.password"
   ]
  },
  {
   "cell_type": "code",
   "execution_count": 126,
   "id": "f808ffaf",
   "metadata": {},
   "outputs": [
    {
     "data": {
      "text/plain": [
       "'aaa111'"
      ]
     },
     "execution_count": 126,
     "metadata": {},
     "output_type": "execute_result"
    }
   ],
   "source": [
    "user2.password"
   ]
  },
  {
   "cell_type": "code",
   "execution_count": 2,
   "id": "f5bd26d3",
   "metadata": {},
   "outputs": [
    {
     "ename": "NameError",
     "evalue": "name 'user2' is not defined",
     "output_type": "error",
     "traceback": [
      "\u001b[0;31m---------------------------------------------------------------------------\u001b[0m",
      "\u001b[0;31mNameError\u001b[0m                                 Traceback (most recent call last)",
      "\u001b[0;32m<ipython-input-2-be19db31f382>\u001b[0m in \u001b[0;36m<module>\u001b[0;34m\u001b[0m\n\u001b[0;32m----> 1\u001b[0;31m \u001b[0muser2\u001b[0m\u001b[0;34m\u001b[0m\u001b[0;34m\u001b[0m\u001b[0m\n\u001b[0m",
      "\u001b[0;31mNameError\u001b[0m: name 'user2' is not defined"
     ]
    }
   ],
   "source": [
    "user2"
   ]
  },
  {
   "cell_type": "markdown",
   "id": "6c92d22d",
   "metadata": {},
   "source": [
    "# Functions"
   ]
  },
  {
   "cell_type": "code",
   "execution_count": 45,
   "id": "30d87979",
   "metadata": {},
   "outputs": [],
   "source": [
    "def get_all_users(sess):\n",
    "    users = sess.query(PMT_USER)\n",
    "    return [\n",
    "        {\n",
    "        \"username\": user.username, \n",
    "        \"email\": user.email, \n",
    "        \"sec_groups\": user.sec_groups\n",
    "        } for user in users\n",
    "    ] "
   ]
  },
  {
   "cell_type": "code",
   "execution_count": 46,
   "id": "a3c7bbe2",
   "metadata": {},
   "outputs": [
    {
     "data": {
      "text/plain": [
       "[]"
      ]
     },
     "execution_count": 46,
     "metadata": {},
     "output_type": "execute_result"
    }
   ],
   "source": [
    "get_users(sess)"
   ]
  },
  {
   "cell_type": "code",
   "execution_count": 47,
   "id": "1477d67a",
   "metadata": {},
   "outputs": [],
   "source": [
    "import json\n",
    "\n",
    "def get_user_sec_groups(sess, user_email):\n",
    "    target_user = sess.query(PMT_USER).filter_by(email=user_email).first()\n",
    "    return json.loads(target_user.sec_groups)"
   ]
  },
  {
   "cell_type": "code",
   "execution_count": 48,
   "id": "f8ef6d2d",
   "metadata": {},
   "outputs": [
    {
     "ename": "AttributeError",
     "evalue": "'NoneType' object has no attribute 'sec_groups'",
     "output_type": "error",
     "traceback": [
      "\u001b[0;31m---------------------------------------------------------------------------\u001b[0m",
      "\u001b[0;31mAttributeError\u001b[0m                            Traceback (most recent call last)",
      "\u001b[0;32m<ipython-input-48-16852dce342d>\u001b[0m in \u001b[0;36m<module>\u001b[0;34m\u001b[0m\n\u001b[0;32m----> 1\u001b[0;31m \u001b[0mget_user_sec_groups\u001b[0m\u001b[0;34m(\u001b[0m\u001b[0msess\u001b[0m\u001b[0;34m,\u001b[0m \u001b[0;34m'test3@test.com'\u001b[0m\u001b[0;34m)\u001b[0m\u001b[0;34m\u001b[0m\u001b[0;34m\u001b[0m\u001b[0m\n\u001b[0m",
      "\u001b[0;32m<ipython-input-47-4f486299e4b4>\u001b[0m in \u001b[0;36mget_user_sec_groups\u001b[0;34m(sess, user_email)\u001b[0m\n\u001b[1;32m      3\u001b[0m \u001b[0;32mdef\u001b[0m \u001b[0mget_user_sec_groups\u001b[0m\u001b[0;34m(\u001b[0m\u001b[0msess\u001b[0m\u001b[0;34m,\u001b[0m \u001b[0muser_email\u001b[0m\u001b[0;34m)\u001b[0m\u001b[0;34m:\u001b[0m\u001b[0;34m\u001b[0m\u001b[0;34m\u001b[0m\u001b[0m\n\u001b[1;32m      4\u001b[0m     \u001b[0mtarget_user\u001b[0m \u001b[0;34m=\u001b[0m \u001b[0msess\u001b[0m\u001b[0;34m.\u001b[0m\u001b[0mquery\u001b[0m\u001b[0;34m(\u001b[0m\u001b[0mPMT_USER\u001b[0m\u001b[0;34m)\u001b[0m\u001b[0;34m.\u001b[0m\u001b[0mfilter_by\u001b[0m\u001b[0;34m(\u001b[0m\u001b[0memail\u001b[0m\u001b[0;34m=\u001b[0m\u001b[0muser_email\u001b[0m\u001b[0;34m)\u001b[0m\u001b[0;34m.\u001b[0m\u001b[0mfirst\u001b[0m\u001b[0;34m(\u001b[0m\u001b[0;34m)\u001b[0m\u001b[0;34m\u001b[0m\u001b[0;34m\u001b[0m\u001b[0m\n\u001b[0;32m----> 5\u001b[0;31m     \u001b[0;32mreturn\u001b[0m \u001b[0mjson\u001b[0m\u001b[0;34m.\u001b[0m\u001b[0mloads\u001b[0m\u001b[0;34m(\u001b[0m\u001b[0mtarget_user\u001b[0m\u001b[0;34m.\u001b[0m\u001b[0msec_groups\u001b[0m\u001b[0;34m)\u001b[0m\u001b[0;34m\u001b[0m\u001b[0;34m\u001b[0m\u001b[0m\n\u001b[0m",
      "\u001b[0;31mAttributeError\u001b[0m: 'NoneType' object has no attribute 'sec_groups'"
     ]
    }
   ],
   "source": [
    "get_user_sec_groups(sess, 'test3@test.com')"
   ]
  },
  {
   "cell_type": "code",
   "execution_count": 61,
   "id": "f9178e17",
   "metadata": {},
   "outputs": [],
   "source": [
    "def add_user(sess, user:dict):\n",
    "    try:\n",
    "        sess.add(PMT_USER(**user))\n",
    "        sess.commit()\n",
    "        return True\n",
    "    except Exception as e:\n",
    "        sess.rollback()\n",
    "        raise e    "
   ]
  },
  {
   "cell_type": "code",
   "execution_count": 63,
   "id": "905a3dce",
   "metadata": {
    "scrolled": true
   },
   "outputs": [
    {
     "data": {
      "text/plain": [
       "True"
      ]
     },
     "execution_count": 63,
     "metadata": {},
     "output_type": "execute_result"
    }
   ],
   "source": [
    "usr = {\"username\": \"test1\", \"email\":\"test1@test.com\", \"sec_groups\":'[]',\"password\":\"abc123\"} \n",
    "add_user(sess, usr)"
   ]
  },
  {
   "cell_type": "code",
   "execution_count": 59,
   "id": "fc8166e8",
   "metadata": {},
   "outputs": [],
   "source": [
    "sess.rollback()"
   ]
  },
  {
   "cell_type": "code",
   "execution_count": 39,
   "id": "62c5f8ae",
   "metadata": {},
   "outputs": [],
   "source": [
    "sess.query(PMT_USER)[4].password"
   ]
  },
  {
   "cell_type": "code",
   "execution_count": null,
   "id": "cb8fa9d7",
   "metadata": {},
   "outputs": [],
   "source": []
  }
 ],
 "metadata": {
  "kernelspec": {
   "display_name": "Python 3.7.2 64-bit ('3.7.2': pyenv)",
   "language": "python",
   "name": "python37264bit372pyenv598c0904c91f42e8a121f9ab66f95843"
  },
  "language_info": {
   "codemirror_mode": {
    "name": "ipython",
    "version": 3
   },
   "file_extension": ".py",
   "mimetype": "text/x-python",
   "name": "python",
   "nbconvert_exporter": "python",
   "pygments_lexer": "ipython3",
   "version": "3.7.2"
  }
 },
 "nbformat": 4,
 "nbformat_minor": 5
}
