{
 "cells": [
  {
   "cell_type": "code",
   "execution_count": 2,
   "metadata": {},
   "outputs": [],
   "source": [
    "from sqlalchemy import create_engine"
   ]
  },
  {
   "cell_type": "markdown",
   "metadata": {},
   "source": [
    "## Create engine"
   ]
  },
  {
   "cell_type": "code",
   "execution_count": 3,
   "metadata": {},
   "outputs": [],
   "source": [
    "engine = create_engine('sqlite:///college.db', echo = True)"
   ]
  },
  {
   "cell_type": "code",
   "execution_count": 42,
   "metadata": {},
   "outputs": [],
   "source": [
    "# sqlite in-memory\n",
    "#engine = create_engine('sqlite://', echo = True)"
   ]
  },
  {
   "cell_type": "code",
   "execution_count": 43,
   "metadata": {},
   "outputs": [
    {
     "data": {
      "text/plain": [
       "Engine(sqlite://)"
      ]
     },
     "execution_count": 43,
     "metadata": {},
     "output_type": "execute_result"
    }
   ],
   "source": [
    "engine"
   ]
  },
  {
   "cell_type": "markdown",
   "metadata": {},
   "source": [
    "## MetaData for table creation"
   ]
  },
  {
   "cell_type": "code",
   "execution_count": 44,
   "metadata": {},
   "outputs": [],
   "source": [
    "from sqlalchemy import MetaData\n",
    "# Metadata contains definitions of tables and associated objects such as index, view, triggers, etc.\n",
    "meta = MetaData()"
   ]
  },
  {
   "cell_type": "code",
   "execution_count": 45,
   "metadata": {},
   "outputs": [],
   "source": [
    "# you can use the metadata obj to hold tables info\n",
    "from sqlalchemy import Table, Column, Integer, String\n"
   ]
  },
  {
   "cell_type": "code",
   "execution_count": 46,
   "metadata": {},
   "outputs": [],
   "source": [
    "# create a table object called students\n",
    "students = Table(\n",
    "    \"students\",\n",
    "    meta, # the metadata obj to hold this table info\n",
    "    Column('id', Integer, primary_key = True), \n",
    "    Column('name', String), \n",
    "    Column('lastname', String), \n",
    ")"
   ]
  },
  {
   "cell_type": "code",
   "execution_count": 47,
   "metadata": {},
   "outputs": [
    {
     "name": "stdout",
     "output_type": "stream",
     "text": [
      "2021-04-21 20:36:53,165 INFO sqlalchemy.engine.base.Engine SELECT CAST('test plain returns' AS VARCHAR(60)) AS anon_1\n",
      "2021-04-21 20:36:53,167 INFO sqlalchemy.engine.base.Engine ()\n",
      "2021-04-21 20:36:53,168 INFO sqlalchemy.engine.base.Engine SELECT CAST('test unicode returns' AS VARCHAR(60)) AS anon_1\n",
      "2021-04-21 20:36:53,168 INFO sqlalchemy.engine.base.Engine ()\n",
      "2021-04-21 20:36:53,169 INFO sqlalchemy.engine.base.Engine PRAGMA table_info(\"students\")\n",
      "2021-04-21 20:36:53,170 INFO sqlalchemy.engine.base.Engine ()\n",
      "2021-04-21 20:36:53,172 INFO sqlalchemy.engine.base.Engine \n",
      "CREATE TABLE students (\n",
      "\tid INTEGER NOT NULL, \n",
      "\tname VARCHAR, \n",
      "\tlastname VARCHAR, \n",
      "\tPRIMARY KEY (id)\n",
      ")\n",
      "\n",
      "\n",
      "2021-04-21 20:36:53,172 INFO sqlalchemy.engine.base.Engine ()\n",
      "2021-04-21 20:36:53,173 INFO sqlalchemy.engine.base.Engine COMMIT\n"
     ]
    }
   ],
   "source": [
    "# now you can actually use the metadata obj to execute\n",
    "# create tables. It takes the engine as argument\n",
    "# now this actually creates the database\n",
    "meta.create_all(engine)"
   ]
  },
  {
   "cell_type": "markdown",
   "metadata": {},
   "source": [
    "## Use table methods to create expression"
   ]
  },
  {
   "cell_type": "code",
   "execution_count": 48,
   "metadata": {},
   "outputs": [
    {
     "data": {
      "text/plain": [
       "'INSERT INTO students (id, name, lastname) VALUES (:id, :name, :lastname)'"
      ]
     },
     "execution_count": 48,
     "metadata": {},
     "output_type": "execute_result"
    }
   ],
   "source": [
    "# create a sql query expression\n",
    "ins = students.insert()\n",
    "str(ins)"
   ]
  },
  {
   "cell_type": "code",
   "execution_count": 49,
   "metadata": {},
   "outputs": [],
   "source": [
    "# bind and compile with values inserted\n",
    "ins = ins.values(id=1, name=\"Bob\", lastname=\"Smith\")"
   ]
  },
  {
   "cell_type": "code",
   "execution_count": 50,
   "metadata": {},
   "outputs": [
    {
     "data": {
      "text/plain": [
       "{'id': 1, 'name': 'Bob', 'lastname': 'Smith'}"
      ]
     },
     "execution_count": 50,
     "metadata": {},
     "output_type": "execute_result"
    }
   ],
   "source": [
    "# see the params\n",
    "ins.compile().params"
   ]
  },
  {
   "cell_type": "code",
   "execution_count": 51,
   "metadata": {},
   "outputs": [
    {
     "data": {
      "text/plain": [
       "'INSERT INTO students (id, name, lastname) VALUES (:id, :name, :lastname)'"
      ]
     },
     "execution_count": 51,
     "metadata": {},
     "output_type": "execute_result"
    }
   ],
   "source": [
    "str(ins)  # here you don't see it though"
   ]
  },
  {
   "cell_type": "markdown",
   "metadata": {},
   "source": [
    "## Execute expression"
   ]
  },
  {
   "cell_type": "code",
   "execution_count": 52,
   "metadata": {},
   "outputs": [],
   "source": [
    "# create connection\n",
    "conn = engine.connect()"
   ]
  },
  {
   "cell_type": "code",
   "execution_count": 53,
   "metadata": {},
   "outputs": [
    {
     "name": "stdout",
     "output_type": "stream",
     "text": [
      "2021-04-21 20:36:59,311 INFO sqlalchemy.engine.base.Engine INSERT INTO students (id, name, lastname) VALUES (?, ?, ?)\n",
      "2021-04-21 20:36:59,312 INFO sqlalchemy.engine.base.Engine (1, 'Bob', 'Smith')\n",
      "2021-04-21 20:36:59,314 INFO sqlalchemy.engine.base.Engine COMMIT\n"
     ]
    },
    {
     "data": {
      "text/plain": [
       "<sqlalchemy.engine.result.ResultProxy at 0x10ea20898>"
      ]
     },
     "execution_count": 53,
     "metadata": {},
     "output_type": "execute_result"
    }
   ],
   "source": [
    "# we can use the expression or string query to execute\n",
    "conn.execute(ins)"
   ]
  },
  {
   "cell_type": "code",
   "execution_count": 54,
   "metadata": {},
   "outputs": [
    {
     "name": "stdout",
     "output_type": "stream",
     "text": [
      "2021-04-21 20:36:59,969 INFO sqlalchemy.engine.base.Engine INSERT INTO students (name, lastname) VALUES (?, ?)\n",
      "2021-04-21 20:36:59,970 INFO sqlalchemy.engine.base.Engine ('Ravi', 'Kapoor')\n",
      "2021-04-21 20:36:59,972 INFO sqlalchemy.engine.base.Engine COMMIT\n"
     ]
    }
   ],
   "source": [
    "# another 1\n",
    "ins = students.insert().values(name = 'Ravi', lastname = 'Kapoor')\n",
    "result = conn.execute(ins)\n"
   ]
  },
  {
   "cell_type": "code",
   "execution_count": 55,
   "metadata": {},
   "outputs": [
    {
     "name": "stdout",
     "output_type": "stream",
     "text": [
      "2021-04-21 20:37:01,187 INFO sqlalchemy.engine.base.Engine select * from students\n",
      "2021-04-21 20:37:01,188 INFO sqlalchemy.engine.base.Engine ()\n"
     ]
    }
   ],
   "source": [
    "result = conn.execute(\"select * from students\")"
   ]
  },
  {
   "cell_type": "code",
   "execution_count": 56,
   "metadata": {},
   "outputs": [
    {
     "data": {
      "text/plain": [
       "[(1, 'Bob', 'Smith'), (2, 'Ravi', 'Kapoor')]"
      ]
     },
     "execution_count": 56,
     "metadata": {},
     "output_type": "execute_result"
    }
   ],
   "source": [
    "result.fetchall()"
   ]
  },
  {
   "cell_type": "code",
   "execution_count": null,
   "metadata": {},
   "outputs": [],
   "source": [
    "ins = students.insert().values(name = 'Happy', lastname = 'Face')\n",
    "result = conn.execute(ins)"
   ]
  },
  {
   "cell_type": "code",
   "execution_count": null,
   "metadata": {},
   "outputs": [],
   "source": [
    "result.fetchall()"
   ]
  },
  {
   "cell_type": "markdown",
   "metadata": {},
   "source": [
    "## Textual SQL"
   ]
  },
  {
   "cell_type": "code",
   "execution_count": 57,
   "metadata": {},
   "outputs": [
    {
     "name": "stdout",
     "output_type": "stream",
     "text": [
      "2021-04-21 20:37:03,906 INFO sqlalchemy.engine.base.Engine SELECT * FROM students\n",
      "2021-04-21 20:37:03,908 INFO sqlalchemy.engine.base.Engine ()\n"
     ]
    }
   ],
   "source": [
    "from sqlalchemy import text\n",
    "t = text(\"SELECT * FROM students\")\n",
    "result = conn.execute(t)"
   ]
  },
  {
   "cell_type": "code",
   "execution_count": 58,
   "metadata": {},
   "outputs": [
    {
     "data": {
      "text/plain": [
       "[(1, 'Bob', 'Smith'), (2, 'Ravi', 'Kapoor')]"
      ]
     },
     "execution_count": 58,
     "metadata": {},
     "output_type": "execute_result"
    }
   ],
   "source": [
    "result.fetchall()"
   ]
  },
  {
   "cell_type": "code",
   "execution_count": 59,
   "metadata": {},
   "outputs": [
    {
     "name": "stdout",
     "output_type": "stream",
     "text": [
      "2021-04-21 20:37:06,254 INFO sqlalchemy.engine.base.Engine select students.name, students.lastname from students where students.name between ? and ?\n",
      "2021-04-21 20:37:06,255 INFO sqlalchemy.engine.base.Engine ('A', 'L')\n"
     ]
    },
    {
     "data": {
      "text/plain": [
       "[('Bob', 'Smith')]"
      ]
     },
     "execution_count": 59,
     "metadata": {},
     "output_type": "execute_result"
    }
   ],
   "source": [
    "# You can format the query using text\n",
    "s = text(\"select students.name, students.lastname from students where students.name between :x and :y\")\n",
    "conn.execute(s, x = 'A', y = 'L').fetchall()"
   ]
  },
  {
   "cell_type": "code",
   "execution_count": 60,
   "metadata": {},
   "outputs": [
    {
     "name": "stdout",
     "output_type": "stream",
     "text": [
      "2021-04-21 20:37:06,626 INFO sqlalchemy.engine.base.Engine SELECT students.name, students.lastname from students \n",
      "WHERE students.name between ? and ?\n",
      "2021-04-21 20:37:06,627 INFO sqlalchemy.engine.base.Engine ('A', 'L')\n"
     ]
    },
    {
     "data": {
      "text/plain": [
       "[('Bob', 'Smith')]"
      ]
     },
     "execution_count": 60,
     "metadata": {},
     "output_type": "execute_result"
    }
   ],
   "source": [
    "from sqlalchemy.sql import select\n",
    "s = select([text(\"students.name, students.lastname from students\")]).where(text(\"students.name between :x and :y\"))\n",
    "conn.execute(s, x = 'A', y = 'L').fetchall()"
   ]
  },
  {
   "cell_type": "code",
   "execution_count": 61,
   "metadata": {},
   "outputs": [],
   "source": [
    "conn.close()"
   ]
  },
  {
   "cell_type": "code",
   "execution_count": null,
   "metadata": {},
   "outputs": [],
   "source": []
  }
 ],
 "metadata": {
  "kernelspec": {
   "display_name": "Python 3.6.5 64-bit ('base': conda)",
   "language": "python",
   "name": "python36564bitbaseconda073a1d18fb274a708cf9265a3dde63f5"
  },
  "language_info": {
   "codemirror_mode": {
    "name": "ipython",
    "version": 3
   },
   "file_extension": ".py",
   "mimetype": "text/x-python",
   "name": "python",
   "nbconvert_exporter": "python",
   "pygments_lexer": "ipython3",
   "version": "3.6.5"
  }
 },
 "nbformat": 4,
 "nbformat_minor": 4
}
