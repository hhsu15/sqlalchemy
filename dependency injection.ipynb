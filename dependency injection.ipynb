{
 "cells": [
  {
   "cell_type": "code",
   "execution_count": 1,
   "id": "f927c155",
   "metadata": {},
   "outputs": [
    {
     "name": "stdout",
     "output_type": "stream",
     "text": [
      "Collecting dependency-injector\n",
      "  Downloading dependency_injector-4.41.0-cp39-cp39-macosx_10_9_x86_64.whl (842 kB)\n",
      "\u001b[2K     \u001b[38;2;114;156;31m━━━━━━━━━━━━━━━━━━━━━━━━━━━━━━━━━━━━━━━\u001b[0m \u001b[32m842.5/842.5 KB\u001b[0m \u001b[31m3.5 MB/s\u001b[0m eta \u001b[36m0:00:00\u001b[0mm eta \u001b[36m0:00:01\u001b[0m0:01\u001b[0m:01\u001b[0m\n",
      "\u001b[?25hRequirement already satisfied: six<=1.16.0,>=1.7.0 in /Users/hsin/.pyenv/versions/3.9.15/lib/python3.9/site-packages (from dependency-injector) (1.16.0)\n",
      "Installing collected packages: dependency-injector\n",
      "Successfully installed dependency-injector-4.41.0\n",
      "\u001b[33mWARNING: You are using pip version 22.0.4; however, version 23.1 is available.\n",
      "You should consider upgrading via the '/Users/hsin/.pyenv/versions/3.9.15/bin/python3.9 -m pip install --upgrade pip' command.\u001b[0m\u001b[33m\n",
      "\u001b[0m"
     ]
    }
   ],
   "source": [
    "!pip install dependency-injector"
   ]
  },
  {
   "cell_type": "code",
   "execution_count": 16,
   "id": "56dbf7ce",
   "metadata": {},
   "outputs": [],
   "source": [
    "from dependency_injector import containers, providers"
   ]
  },
  {
   "cell_type": "code",
   "execution_count": 25,
   "id": "ba981c0e",
   "metadata": {},
   "outputs": [],
   "source": [
    "\n",
    "class SomeService:\n",
    "    def __init__(self, name, db):\n",
    "        self.name = name\n",
    "        self.db = db\n",
    "    \n",
    "    def say_hello(self):\n",
    "        print(\"hello\")\n",
    "        \n",
    "class DBClient:\n",
    "    \n",
    "    def __init__(self):\n",
    "        pass\n",
    "    \n",
    "    def get_data(self):\n",
    "        print(\"you got some data\")\n",
    "\n",
    "class Container(containers.DeclarativeContainer):\n",
    "    \n",
    "    # get db client as singlton\n",
    "    database_client = providers.Singleton(\n",
    "        DBClient\n",
    "    )\n",
    "    \n",
    "    # some services\n",
    "    some_svc = providers.Factory(\n",
    "        SomeService,\n",
    "        name=\"my_service\",\n",
    "        db=database_client\n",
    "    )"
   ]
  },
  {
   "cell_type": "code",
   "execution_count": 26,
   "id": "2be91e77",
   "metadata": {},
   "outputs": [],
   "source": [
    "from dependency_injector.wiring import Provide, inject\n",
    "\n",
    "@inject\n",
    "def some_function(\n",
    "  some_svc:SomeService=Provide[Container.some_svc]\n",
    "):\n",
    "    some_svc.say_hello()\n",
    "    some_svc.db.get_data()"
   ]
  },
  {
   "cell_type": "code",
   "execution_count": 27,
   "id": "d477d8eb",
   "metadata": {},
   "outputs": [],
   "source": [
    "\n",
    "# set up code \n",
    "container = Container()\n",
    "container.init_resources()\n",
    "container.wire(modules=[__name__])\n",
    "# some_function()"
   ]
  },
  {
   "cell_type": "code",
   "execution_count": 28,
   "id": "17bf842e",
   "metadata": {},
   "outputs": [
    {
     "name": "stdout",
     "output_type": "stream",
     "text": [
      "hello\n",
      "you got some data\n"
     ]
    }
   ],
   "source": [
    "some_function()"
   ]
  },
  {
   "cell_type": "code",
   "execution_count": 32,
   "id": "35985203",
   "metadata": {},
   "outputs": [
    {
     "data": {
      "text/plain": [
       "<dependency_injector.providers.Singleton(<class '__main__.DBClient'>) at 0x112c3a6a0>"
      ]
     },
     "execution_count": 32,
     "metadata": {},
     "output_type": "execute_result"
    }
   ],
   "source": [
    "Container.database_client"
   ]
  },
  {
   "cell_type": "code",
   "execution_count": 39,
   "id": "16a278ae",
   "metadata": {},
   "outputs": [],
   "source": [
    "class MyClass:\n",
    "    \n",
    "    def __init__(self):\n",
    "        pass"
   ]
  },
  {
   "cell_type": "code",
   "execution_count": 40,
   "id": "ce3a6e0d",
   "metadata": {},
   "outputs": [],
   "source": [
    "m = MyClass()"
   ]
  },
  {
   "cell_type": "code",
   "execution_count": 42,
   "id": "9888547f",
   "metadata": {},
   "outputs": [
    {
     "data": {
      "text/plain": [
       "287910937"
      ]
     },
     "execution_count": 42,
     "metadata": {},
     "output_type": "execute_result"
    }
   ],
   "source": [
    "hash(m)"
   ]
  },
  {
   "cell_type": "code",
   "execution_count": 43,
   "id": "444e6eb3",
   "metadata": {},
   "outputs": [],
   "source": [
    "m2 = MyClass()"
   ]
  },
  {
   "cell_type": "code",
   "execution_count": 44,
   "id": "c9e9b4e9",
   "metadata": {},
   "outputs": [
    {
     "data": {
      "text/plain": [
       "287910979"
      ]
     },
     "execution_count": 44,
     "metadata": {},
     "output_type": "execute_result"
    }
   ],
   "source": [
    "hash(m2)"
   ]
  },
  {
   "cell_type": "code",
   "execution_count": null,
   "id": "72e9ecf4",
   "metadata": {},
   "outputs": [],
   "source": []
  }
 ],
 "metadata": {
  "kernelspec": {
   "display_name": "Python 3 (ipykernel)",
   "language": "python",
   "name": "python3"
  },
  "language_info": {
   "codemirror_mode": {
    "name": "ipython",
    "version": 3
   },
   "file_extension": ".py",
   "mimetype": "text/x-python",
   "name": "python",
   "nbconvert_exporter": "python",
   "pygments_lexer": "ipython3",
   "version": "3.9.15"
  }
 },
 "nbformat": 4,
 "nbformat_minor": 5
}
