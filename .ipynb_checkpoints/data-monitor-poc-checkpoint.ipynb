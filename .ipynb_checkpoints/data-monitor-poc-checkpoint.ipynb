{
 "cells": [
  {
   "cell_type": "code",
   "execution_count": null,
   "id": "a7733e4b",
   "metadata": {},
   "outputs": [],
   "source": [
    "from sqlalchemy import create_engine"
   ]
  },
  {
   "cell_type": "markdown",
   "id": "72ef0527",
   "metadata": {},
   "source": [
    "## Create engine"
   ]
  },
  {
   "cell_type": "code",
   "execution_count": null,
   "id": "9cf9aadc",
   "metadata": {},
   "outputs": [],
   "source": [
    "engine = create_engine('sqlite:///data_monitor.db', echo = True)"
   ]
  },
  {
   "cell_type": "code",
   "execution_count": null,
   "id": "18c8bae6",
   "metadata": {},
   "outputs": [],
   "source": [
    "# sqlite in-memory\n",
    "#engine = create_engine('sqlite://', echo = True)"
   ]
  },
  {
   "cell_type": "code",
   "execution_count": null,
   "id": "368116f3",
   "metadata": {},
   "outputs": [],
   "source": [
    "engine"
   ]
  },
  {
   "cell_type": "markdown",
   "id": "7b99f026",
   "metadata": {},
   "source": [
    "## MetaData for table creation"
   ]
  },
  {
   "cell_type": "code",
   "execution_count": null,
   "id": "6bc30c53",
   "metadata": {},
   "outputs": [],
   "source": [
    "from sqlalchemy import MetaData\n",
    "# Metadata contains definitions of tables and associated objects such as index, view, triggers, etc.\n",
    "meta = MetaData()"
   ]
  },
  {
   "cell_type": "code",
   "execution_count": null,
   "id": "73b92b1a",
   "metadata": {},
   "outputs": [],
   "source": [
    "# you can use the metadata obj to hold tables info\n",
    "from sqlalchemy import Table, Column, Integer, String\n"
   ]
  },
  {
   "cell_type": "code",
   "execution_count": null,
   "id": "586f92b1",
   "metadata": {},
   "outputs": [],
   "source": [
    "# create a table object called students\n",
    "data_monitor = Table(\n",
    "    \"data_monitor\",\n",
    "    meta, # the metadata obj to hold this table info\n",
    "    Column('id', Integer, primary_key = True), \n",
    "    Column('name', String), \n",
    "    Column('lastname', String), \n",
    ")"
   ]
  },
  {
   "cell_type": "code",
   "execution_count": null,
   "id": "4b6fdbaa",
   "metadata": {},
   "outputs": [],
   "source": [
    "# now you can actually use the metadata obj to execute\n",
    "# create tables. It takes the engine as argument\n",
    "# now this actually creates the database\n",
    "meta.create_all(engine)"
   ]
  },
  {
   "cell_type": "markdown",
   "id": "0858e56e",
   "metadata": {},
   "source": [
    "## Use table methods to create expression"
   ]
  },
  {
   "cell_type": "code",
   "execution_count": null,
   "id": "7e7718c8",
   "metadata": {},
   "outputs": [],
   "source": [
    "# create a sql query expression\n",
    "ins = data_monitor.insert()\n",
    "str(ins)"
   ]
  },
  {
   "cell_type": "code",
   "execution_count": null,
   "id": "7bb22030",
   "metadata": {},
   "outputs": [],
   "source": [
    "# bind and compile with values inserted\n",
    "ins = ins.values(id=1, name=\"Bob\", lastname=\"Smith\")"
   ]
  },
  {
   "cell_type": "code",
   "execution_count": null,
   "id": "bce7526a",
   "metadata": {},
   "outputs": [],
   "source": [
    "ins.compile().params"
   ]
  },
  {
   "cell_type": "markdown",
   "id": "b4ae039e",
   "metadata": {},
   "source": [
    "## Execute expression"
   ]
  },
  {
   "cell_type": "code",
   "execution_count": null,
   "id": "f883dadf",
   "metadata": {},
   "outputs": [],
   "source": [
    "# create connection\n",
    "conn = engine.connect()"
   ]
  },
  {
   "cell_type": "code",
   "execution_count": null,
   "id": "6608a6ad",
   "metadata": {},
   "outputs": [],
   "source": [
    "# we can use the expression or string query to execute\n",
    "conn.execute(ins)"
   ]
  },
  {
   "cell_type": "code",
   "execution_count": null,
   "id": "8c6cac06",
   "metadata": {},
   "outputs": [],
   "source": [
    "# another 1\n",
    "ins = data_monitor.insert().values(name = 'Shin', lastname = 'Hsu')\n",
    "result = conn.execute(ins)\n"
   ]
  },
  {
   "cell_type": "code",
   "execution_count": null,
   "id": "a62af4bd",
   "metadata": {},
   "outputs": [],
   "source": [
    "# more\n",
    "ins = data_monitor.insert().values(name = 'Kyle', lastname = 'Hsu')\n",
    "result = conn.execute(ins)\n"
   ]
  },
  {
   "cell_type": "code",
   "execution_count": null,
   "id": "6d7c0926",
   "metadata": {},
   "outputs": [],
   "source": [
    "# commit the updates\n",
    "conn.commit() "
   ]
  },
  {
   "cell_type": "markdown",
   "id": "91656840",
   "metadata": {},
   "source": [
    "## Textual SQL"
   ]
  },
  {
   "cell_type": "code",
   "execution_count": null,
   "id": "6294cf91",
   "metadata": {},
   "outputs": [],
   "source": [
    "from sqlalchemy import text\n",
    "t = text(\"SELECT * FROM data_monitor\")\n",
    "result = conn.execute(t)\n"
   ]
  },
  {
   "cell_type": "code",
   "execution_count": null,
   "id": "a60ad5ab",
   "metadata": {},
   "outputs": [],
   "source": [
    "result.fetchall()"
   ]
  },
  {
   "cell_type": "code",
   "execution_count": null,
   "id": "1ae7450a",
   "metadata": {},
   "outputs": [],
   "source": [
    "conn.close()"
   ]
  },
  {
   "cell_type": "code",
   "execution_count": null,
   "id": "6ea3f3dd",
   "metadata": {},
   "outputs": [],
   "source": [
    "# You can format the query using text\n",
    "# s = text(\"select data_monitor.name, data_monitor.lastname from data_monitor where data_monitor.name between :x and :y\")\n",
    "# conn.execute(s, x='A', y='L').fetchall()"
   ]
  },
  {
   "cell_type": "code",
   "execution_count": null,
   "id": "b7eca18e",
   "metadata": {},
   "outputs": [],
   "source": [
    "# from sqlalchemy.sql import select\n",
    "# s = select([text(\"data_monitor.name, data_monitor.lastname from data_monitor\")]).where(text(\"data_monitor.name between :x and :y\"))\n",
    "# conn.execute(s, x = 'A', y = 'L').fetchall()"
   ]
  },
  {
   "cell_type": "code",
   "execution_count": null,
   "id": "678059fc",
   "metadata": {},
   "outputs": [],
   "source": [
    "%pip list"
   ]
  },
  {
   "cell_type": "code",
   "execution_count": null,
   "id": "6ec002ad",
   "metadata": {},
   "outputs": [],
   "source": [
    "conn.close()"
   ]
  },
  {
   "cell_type": "markdown",
   "id": "8767a842",
   "metadata": {},
   "source": [
    "## Complete Code"
   ]
  },
  {
   "cell_type": "code",
   "execution_count": 4,
   "id": "ab606921",
   "metadata": {},
   "outputs": [
    {
     "name": "stdout",
     "output_type": "stream",
     "text": [
      "2023-04-02 19:43:32,839 INFO sqlalchemy.engine.Engine BEGIN (implicit)\n",
      "2023-04-02 19:43:32,840 INFO sqlalchemy.engine.Engine PRAGMA main.table_info(\"test_table_4\")\n",
      "2023-04-02 19:43:32,842 INFO sqlalchemy.engine.Engine [raw sql] ()\n",
      "2023-04-02 19:43:32,849 INFO sqlalchemy.engine.Engine COMMIT\n"
     ]
    }
   ],
   "source": [
    "from sqlalchemy import create_engine\n",
    "from sqlalchemy import Table, Column, Integer, String\n",
    "from sqlalchemy import MetaData\n",
    "from sqlalchemy import insert\n",
    "\n",
    "\n",
    "def make_tb(engine, tb_name, columns):\n",
    "    meta = MetaData()\n",
    "\n",
    "    # create a table object called students\n",
    "    tb = Table(\n",
    "        tb_name,\n",
    "        meta, # the metadata obj to hold this table info\n",
    "        *columns    \n",
    "    )\n",
    "\n",
    "    meta.create_all(engine)\n",
    "    return tb\n",
    "\n",
    "    \n",
    "def insert_rows(tb, rows):\n",
    "    conn = engine.connect()\n",
    "    for row in rows:\n",
    "        ins = tb.insert().values(**row)\n",
    "        result = conn.execute(ins)\n",
    "    conn.commit()\n",
    "    conn.close()\n",
    "    \n",
    "\n",
    "    \n",
    "# run code\n",
    "\n",
    "engine = create_engine('sqlite:///test.db', echo=True)\n",
    "\n",
    "columns = [\n",
    "    Column('id', Integer, primary_key=True), \n",
    "    Column('name', String), \n",
    "    Column('age', String), \n",
    "]\n",
    "\n",
    "\n",
    "tb_name = \"test_table_4\"\n",
    "\n",
    "tb = make_tb(engine, tb_name, columns)"
   ]
  },
  {
   "cell_type": "code",
   "execution_count": 5,
   "id": "2f65202b",
   "metadata": {},
   "outputs": [
    {
     "name": "stdout",
     "output_type": "stream",
     "text": [
      "2023-04-02 19:43:49,958 INFO sqlalchemy.engine.Engine BEGIN (implicit)\n",
      "2023-04-02 19:43:49,959 INFO sqlalchemy.engine.Engine INSERT INTO test_table_4 (name, age) VALUES (?, ?)\n",
      "2023-04-02 19:43:49,960 INFO sqlalchemy.engine.Engine [generated in 0.00301s] ('Jess', 10)\n",
      "2023-04-02 19:43:49,963 INFO sqlalchemy.engine.Engine INSERT INTO test_table_4 (name, age) VALUES (?, ?)\n",
      "2023-04-02 19:43:49,964 INFO sqlalchemy.engine.Engine [cached since 0.006388s ago] ('Shin', 5)\n",
      "2023-04-02 19:43:49,965 INFO sqlalchemy.engine.Engine COMMIT\n"
     ]
    }
   ],
   "source": [
    "rows = [\n",
    "    {\"name\": \"Jess\", \"age\": 10},\n",
    "    {\"name\": \"Shin\", \"age\": 5},\n",
    "]\n",
    "\n",
    "insert_rows(tb, rows)\n",
    "engine.dispose()"
   ]
  },
  {
   "cell_type": "code",
   "execution_count": 6,
   "id": "0a2803b2",
   "metadata": {},
   "outputs": [
    {
     "name": "stdout",
     "output_type": "stream",
     "text": [
      "2023-04-02 19:44:02,214 INFO sqlalchemy.engine.Engine BEGIN (implicit)\n",
      "2023-04-02 19:44:02,215 INFO sqlalchemy.engine.Engine INSERT INTO test_table_4 (name, age) VALUES (?, ?)\n",
      "2023-04-02 19:44:02,217 INFO sqlalchemy.engine.Engine [generated in 0.00305s] ('Bob', 10)\n",
      "2023-04-02 19:44:02,219 INFO sqlalchemy.engine.Engine INSERT INTO test_table_4 (name, age) VALUES (?, ?)\n",
      "2023-04-02 19:44:02,220 INFO sqlalchemy.engine.Engine [cached since 0.006883s ago] ('Jack', 5)\n",
      "2023-04-02 19:44:02,221 INFO sqlalchemy.engine.Engine COMMIT\n"
     ]
    }
   ],
   "source": [
    "# let's say that you already have the table creared \n",
    "# then you just need to get the table\n",
    "\n",
    "def get_tb(tb_name):\n",
    "    meta = MetaData()\n",
    "    \n",
    "    # here it needs to match what you already have\n",
    "    columns = [\n",
    "    Column('id', Integer, primary_key=True), \n",
    "    Column('name', String), \n",
    "    Column('age', String), \n",
    "    ]\n",
    "\n",
    "    # create a table object called students\n",
    "    tb = Table(\n",
    "        tb_name,\n",
    "        meta, # the metadata obj to hold this table info\n",
    "        *columns    \n",
    "    )\n",
    "    return tb\n",
    "\n",
    "\n",
    "\n",
    "def insert_rows(tb, rows):\n",
    "    conn = engine.connect()\n",
    "    for row in rows:\n",
    "        ins = tb.insert().values(**row)\n",
    "        result = conn.execute(ins)\n",
    "    conn.commit()\n",
    "    conn.close()\n",
    "\n",
    "engine = create_engine('sqlite:///test.db', echo=True)\n",
    "\n",
    "\n",
    "tb_name = \"test_table_4\"\n",
    "\n",
    "tb = get_tb(tb_name)\n",
    "rows = [\n",
    "    {\"name\": \"Bob\", \"age\": 10},\n",
    "    {\"name\": \"Jack\", \"age\": 5},\n",
    "]\n",
    "\n",
    "insert_rows(tb, rows)\n",
    "engine.dispose()"
   ]
  },
  {
   "cell_type": "code",
   "execution_count": null,
   "id": "4cac0302",
   "metadata": {},
   "outputs": [],
   "source": [
    "# Design ideas\n",
    "\"\"\"\n",
    "1. primary key = project_name + rule_name + date(day)\n",
    "2. Create a dev_data_monitor.db when using \"data-monitor init\"\n",
    "3. The entry_point provides flag send_to_db=True, env=dev\n",
    "4. When record is sent to db, it overrides the current data if primary key already exists\n",
    "\"\"\""
   ]
  },
  {
   "cell_type": "code",
   "execution_count": 34,
   "id": "db68315e",
   "metadata": {},
   "outputs": [],
   "source": [
    "from sqlalchemy import text\n",
    "from sqlalchemy import update\n",
    "\n",
    "\n",
    "def insert_or_update_if_key_exists(rows):\n",
    "    result = None\n",
    "    conn = engine.connect()\n",
    "    for row in rows:\n",
    "        try:\n",
    "            ins = tb.insert().values(**row)\n",
    "            conn.execute(ins)\n",
    "            conn.commit()\n",
    "        except Exception as err:\n",
    "            print(\"Insert Error:\", err)\n",
    "            key = row['id']\n",
    "            try:\n",
    "                print(\"Updating key:\", key)\n",
    "                upd = tb.update().where(tb.c.id==key).values(name=row[\"name\"], age=row['age'])\n",
    "                conn.execute(upd)\n",
    "            except Exception as err:\n",
    "                print(\"Update Error:\", err)\n",
    "    conn.commit()  \n",
    "    conn.close()\n",
    "    return result\n"
   ]
  },
  {
   "cell_type": "code",
   "execution_count": 35,
   "id": "24894406",
   "metadata": {},
   "outputs": [
    {
     "name": "stdout",
     "output_type": "stream",
     "text": [
      "2023-04-02 20:15:29,660 INFO sqlalchemy.engine.Engine BEGIN (implicit)\n",
      "2023-04-02 20:15:29,662 INFO sqlalchemy.engine.Engine INSERT INTO test_table_4 (id, name, age) VALUES (?, ?, ?)\n",
      "2023-04-02 20:15:29,663 INFO sqlalchemy.engine.Engine [cached since 1850s ago] (1, 'Shin', 40)\n",
      "Insert Error: (sqlite3.IntegrityError) UNIQUE constraint failed: test_table_4.id\n",
      "[SQL: INSERT INTO test_table_4 (id, name, age) VALUES (?, ?, ?)]\n",
      "[parameters: (1, 'Shin', 40)]\n",
      "(Background on this error at: https://sqlalche.me/e/20/gkpj)\n",
      "Updating key: 1\n",
      "2023-04-02 20:15:29,667 INFO sqlalchemy.engine.Engine UPDATE test_table_4 SET name=?, age=? WHERE test_table_4.id = ?\n",
      "2023-04-02 20:15:29,668 INFO sqlalchemy.engine.Engine [cached since 147.4s ago] ('Shin', 40, 1)\n",
      "2023-04-02 20:15:29,671 INFO sqlalchemy.engine.Engine INSERT INTO test_table_4 (id, name, age) VALUES (?, ?, ?)\n",
      "2023-04-02 20:15:29,672 INFO sqlalchemy.engine.Engine [cached since 1850s ago] (2, 'Jack', 25)\n",
      "Insert Error: (sqlite3.IntegrityError) UNIQUE constraint failed: test_table_4.id\n",
      "[SQL: INSERT INTO test_table_4 (id, name, age) VALUES (?, ?, ?)]\n",
      "[parameters: (2, 'Jack', 25)]\n",
      "(Background on this error at: https://sqlalche.me/e/20/gkpj)\n",
      "Updating key: 2\n",
      "2023-04-02 20:15:29,675 INFO sqlalchemy.engine.Engine UPDATE test_table_4 SET name=?, age=? WHERE test_table_4.id = ?\n",
      "2023-04-02 20:15:29,676 INFO sqlalchemy.engine.Engine [cached since 147.4s ago] ('Jack', 25, 2)\n",
      "2023-04-02 20:15:29,678 INFO sqlalchemy.engine.Engine COMMIT\n"
     ]
    }
   ],
   "source": [
    "rows = [\n",
    "    {\"id\": 1, \"name\": \"Shin\", \"age\": 40},\n",
    "    {\"id\": 2, \"name\": \"Jack\", \"age\": 25},\n",
    "]\n",
    "\n",
    "insert_or_update_if_key_exists(rows)"
   ]
  },
  {
   "cell_type": "code",
   "execution_count": 17,
   "id": "a214a118",
   "metadata": {},
   "outputs": [
    {
     "data": {
      "text/plain": [
       "<sqlalchemy.sql.base.ReadOnlyColumnCollection at 0x11196ebd0>"
      ]
     },
     "execution_count": 17,
     "metadata": {},
     "output_type": "execute_result"
    }
   ],
   "source": [
    "from sqlalchemy import text\n",
    "t = text(\"SELECT * FROM data_monitor\")\n",
    "result = conn.execute(t)\n"
   ]
  },
  {
   "cell_type": "code",
   "execution_count": 30,
   "id": "3796d8de",
   "metadata": {},
   "outputs": [
    {
     "data": {
      "text/plain": [
       "Table('test_table_4', MetaData(), Column('id', Integer(), table=<test_table_4>, primary_key=True, nullable=False), Column('name', String(), table=<test_table_4>), Column('age', String(), table=<test_table_4>), schema=None)"
      ]
     },
     "execution_count": 30,
     "metadata": {},
     "output_type": "execute_result"
    }
   ],
   "source": [
    "tb"
   ]
  },
  {
   "cell_type": "code",
   "execution_count": null,
   "id": "6c267e9c",
   "metadata": {},
   "outputs": [],
   "source": [
    ">>> from sqlalchemy import update\n",
    ">>> stmt = (\n",
    "...     update(user_table)\n",
    "...     .where(user_table.c.name == \"patrick\")\n",
    "...     .values(fullname=\"Patrick the Star\")\n",
    "... )\n",
    ">>> print(stmt)\n",
    "UPDATE user_account SET fullname=:fullname WHERE user_account.name = :name_1"
   ]
  },
  {
   "cell_type": "code",
   "execution_count": 33,
   "id": "713205aa",
   "metadata": {},
   "outputs": [
    {
     "name": "stdout",
     "output_type": "stream",
     "text": [
      "2023-04-02 20:13:02,222 INFO sqlalchemy.engine.Engine BEGIN (implicit)\n",
      "2023-04-02 20:13:02,224 INFO sqlalchemy.engine.Engine INSERT INTO test_table_4 (id, name, age) VALUES (?, ?, ?)\n",
      "2023-04-02 20:13:02,225 INFO sqlalchemy.engine.Engine [cached since 1703s ago] (1, 'Bob', 10)\n",
      "Insert Error: (sqlite3.IntegrityError) UNIQUE constraint failed: test_table_4.id\n",
      "[SQL: INSERT INTO test_table_4 (id, name, age) VALUES (?, ?, ?)]\n",
      "[parameters: (1, 'Bob', 10)]\n",
      "(Background on this error at: https://sqlalche.me/e/20/gkpj)\n",
      "2023-04-02 20:13:02,229 INFO sqlalchemy.engine.Engine UPDATE test_table_4 SET name=?, age=? WHERE test_table_4.id = ?\n",
      "2023-04-02 20:13:02,231 INFO sqlalchemy.engine.Engine [generated in 0.00143s] ('Bob', 10, 1)\n",
      "2023-04-02 20:13:02,233 INFO sqlalchemy.engine.Engine COMMIT\n"
     ]
    }
   ],
   "source": [
    "row = {\"id\": 1, \"name\": \"Bob\", \"age\": 10}\n",
    "\n",
    "conn = engine.connect()\n",
    "    \n",
    "try:\n",
    "    ins = tb.insert().values(**row)\n",
    "    result = conn.execute(ins)\n",
    "    conn.commit()\n",
    "except Exception as err:\n",
    "    print(\"Insert Error:\", err)\n",
    "    key = row[\"id\"]\n",
    "    try:\n",
    "        upd = tb.update().where(tb.c.id==key).values(name=row[\"name\"], age=row['age'])\n",
    "        conn.execute(upd)\n",
    "    except Exception as err:\n",
    "        print(\"Update Error:\", err)\n",
    "conn.commit()  \n",
    "conn.close()"
   ]
  },
  {
   "cell_type": "code",
   "execution_count": null,
   "id": "716584e1",
   "metadata": {},
   "outputs": [],
   "source": []
  }
 ],
 "metadata": {
  "kernelspec": {
   "display_name": "Python 3 (ipykernel)",
   "language": "python",
   "name": "python3"
  },
  "language_info": {
   "codemirror_mode": {
    "name": "ipython",
    "version": 3
   },
   "file_extension": ".py",
   "mimetype": "text/x-python",
   "name": "python",
   "nbconvert_exporter": "python",
   "pygments_lexer": "ipython3",
   "version": "3.9.15"
  }
 },
 "nbformat": 4,
 "nbformat_minor": 5
}
