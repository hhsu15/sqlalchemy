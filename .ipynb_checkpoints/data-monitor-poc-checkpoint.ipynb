{
 "cells": [
  {
   "cell_type": "markdown",
   "id": "c0696564",
   "metadata": {},
   "source": [
    "## Complete Code"
   ]
  },
  {
   "cell_type": "code",
   "execution_count": 8,
   "id": "5c7395dc",
   "metadata": {},
   "outputs": [
    {
     "name": "stdout",
     "output_type": "stream",
     "text": [
      "2023-04-05 13:31:56,717 INFO sqlalchemy.engine.Engine BEGIN (implicit)\n",
      "2023-04-05 13:31:56,718 INFO sqlalchemy.engine.Engine PRAGMA main.table_info(\"test_table_4\")\n",
      "2023-04-05 13:31:56,720 INFO sqlalchemy.engine.Engine [raw sql] ()\n",
      "2023-04-05 13:31:56,723 INFO sqlalchemy.engine.Engine COMMIT\n"
     ]
    }
   ],
   "source": [
    "from sqlalchemy import create_engine\n",
    "from sqlalchemy import Table, Column, Integer, String\n",
    "from sqlalchemy import MetaData\n",
    "from sqlalchemy import insert\n",
    "from sqlalchemy import text\n",
    "from sqlalchemy import update\n",
    "from sqlalchemy import exc\n",
    "\n",
    "\n",
    "def make_tb(engine, tb_name, columns):\n",
    "    meta = MetaData()\n",
    "    # create a table object called students\n",
    "    tb = Table(\n",
    "        tb_name,\n",
    "        meta, # the metadata obj to hold this table info\n",
    "        *columns    \n",
    "    )\n",
    "\n",
    "    meta.create_all(engine)\n",
    "    return tb\n",
    "\n",
    "    \n",
    "def insert_rows(tb, rows) -> bool:\n",
    "    result = None\n",
    "    with engine.connect() as conn:\n",
    "        ins = tb.insert().values(rows)\n",
    "        conn.commit()\n",
    "        return True\n",
    "    return False\n",
    "\n",
    "    \n",
    "def upsert(tb, rows) -> bool:\n",
    "    \"\"\"On insert conflict do update.\"\"\"\n",
    "    result = None\n",
    "    upsert_success = False\n",
    "    conn = engine.connect()\n",
    "    for row in rows:\n",
    "        try:\n",
    "            ins = tb.insert().values(**row)\n",
    "            conn.execute(ins)\n",
    "            upsert_success = True\n",
    "        except (exc.IntegrityError, Exception) as err:\n",
    "            print(\"Insert Error:\", err)\n",
    "            try:\n",
    "                upd = tb.update().where(tb.c.id==row['id']).values(**row)\n",
    "                conn.execute(upd)\n",
    "                upsert_success = True\n",
    "            except Exception as err:\n",
    "                print(\"Update Error:\", err)\n",
    "\n",
    "    if upsert_success:            \n",
    "        conn.commit()\n",
    "        \n",
    "    conn.close()\n",
    "    return result\n",
    "    \n",
    "\n",
    "    \n",
    "# run code\n",
    "\n",
    "engine = create_engine('sqlite:///test.db', echo=True)\n",
    "\n",
    "columns = [\n",
    "    Column('id', Integer, primary_key=True), \n",
    "    Column('name', String), \n",
    "    Column('age', String), \n",
    "]\n",
    "\n",
    "\n",
    "tb_name = \"test_table_4\"\n",
    "\n",
    "tb = make_tb(engine, tb_name, columns)"
   ]
  },
  {
   "cell_type": "code",
   "execution_count": 9,
   "id": "0b9fd4c0",
   "metadata": {},
   "outputs": [
    {
     "name": "stdout",
     "output_type": "stream",
     "text": [
      "2023-04-05 13:31:57,351 INFO sqlalchemy.engine.Engine BEGIN (implicit)\n",
      "2023-04-05 13:31:57,353 INFO sqlalchemy.engine.Engine INSERT INTO test_table_4 (name, age) VALUES (?, ?), (?, ?)\n",
      "2023-04-05 13:31:57,355 INFO sqlalchemy.engine.Engine [no key 0.00361s] ('nate', 40, 'kyle', 25)\n",
      "2023-04-05 13:31:57,357 INFO sqlalchemy.engine.Engine ROLLBACK\n"
     ]
    },
    {
     "ename": "ResourceClosedError",
     "evalue": "This result object does not return rows. It has been closed automatically.",
     "output_type": "error",
     "traceback": [
      "\u001b[0;31m---------------------------------------------------------------------------\u001b[0m",
      "\u001b[0;31mResourceClosedError\u001b[0m                       Traceback (most recent call last)",
      "Cell \u001b[0;32mIn[9], line 6\u001b[0m\n\u001b[1;32m      1\u001b[0m rows \u001b[38;5;241m=\u001b[39m [\n\u001b[1;32m      2\u001b[0m     {\u001b[38;5;124m\"\u001b[39m\u001b[38;5;124mname\u001b[39m\u001b[38;5;124m\"\u001b[39m: \u001b[38;5;124m\"\u001b[39m\u001b[38;5;124mnate\u001b[39m\u001b[38;5;124m\"\u001b[39m, \u001b[38;5;124m\"\u001b[39m\u001b[38;5;124mage\u001b[39m\u001b[38;5;124m\"\u001b[39m: \u001b[38;5;241m40\u001b[39m},\n\u001b[1;32m      3\u001b[0m     {\u001b[38;5;124m\"\u001b[39m\u001b[38;5;124mname\u001b[39m\u001b[38;5;124m\"\u001b[39m: \u001b[38;5;124m\"\u001b[39m\u001b[38;5;124mkyle\u001b[39m\u001b[38;5;124m\"\u001b[39m, \u001b[38;5;124m\"\u001b[39m\u001b[38;5;124mage\u001b[39m\u001b[38;5;124m\"\u001b[39m: \u001b[38;5;241m25\u001b[39m},\n\u001b[1;32m      4\u001b[0m ]\n\u001b[0;32m----> 6\u001b[0m result \u001b[38;5;241m=\u001b[39m \u001b[43minsert_rows\u001b[49m\u001b[43m(\u001b[49m\u001b[43mtb\u001b[49m\u001b[43m,\u001b[49m\u001b[43m \u001b[49m\u001b[43mrows\u001b[49m\u001b[43m)\u001b[49m\n",
      "Cell \u001b[0;32mIn[8], line 28\u001b[0m, in \u001b[0;36minsert_rows\u001b[0;34m(tb, rows)\u001b[0m\n\u001b[1;32m     26\u001b[0m     ins \u001b[38;5;241m=\u001b[39m tb\u001b[38;5;241m.\u001b[39minsert()\u001b[38;5;241m.\u001b[39mvalues(rows)\n\u001b[1;32m     27\u001b[0m     result \u001b[38;5;241m=\u001b[39m conn\u001b[38;5;241m.\u001b[39mexecute(ins)\n\u001b[0;32m---> 28\u001b[0m     result \u001b[38;5;241m=\u001b[39m \u001b[43mresult\u001b[49m\u001b[38;5;241;43m.\u001b[39;49m\u001b[43mfetchall\u001b[49m\u001b[43m(\u001b[49m\u001b[43m)\u001b[49m\n\u001b[1;32m     29\u001b[0m     conn\u001b[38;5;241m.\u001b[39mcommit()\n\u001b[1;32m     30\u001b[0m \u001b[38;5;28;01mreturn\u001b[39;00m result\n",
      "File \u001b[0;32m~/.pyenv/versions/3.9.15/lib/python3.9/site-packages/sqlalchemy/engine/result.py:1303\u001b[0m, in \u001b[0;36mResult.fetchall\u001b[0;34m(self)\u001b[0m\n\u001b[1;32m   1300\u001b[0m \u001b[38;5;28;01mdef\u001b[39;00m \u001b[38;5;21mfetchall\u001b[39m(\u001b[38;5;28mself\u001b[39m) \u001b[38;5;241m-\u001b[39m\u001b[38;5;241m>\u001b[39m Sequence[Row[_TP]]:\n\u001b[1;32m   1301\u001b[0m     \u001b[38;5;124;03m\"\"\"A synonym for the :meth:`_engine.Result.all` method.\"\"\"\u001b[39;00m\n\u001b[0;32m-> 1303\u001b[0m     \u001b[38;5;28;01mreturn\u001b[39;00m \u001b[38;5;28;43mself\u001b[39;49m\u001b[38;5;241;43m.\u001b[39;49m\u001b[43m_allrows\u001b[49m\u001b[43m(\u001b[49m\u001b[43m)\u001b[49m\n",
      "File \u001b[0;32m~/.pyenv/versions/3.9.15/lib/python3.9/site-packages/sqlalchemy/engine/result.py:527\u001b[0m, in \u001b[0;36mResultInternal._allrows\u001b[0;34m(self)\u001b[0m\n\u001b[1;32m    523\u001b[0m \u001b[38;5;28;01mdef\u001b[39;00m \u001b[38;5;21m_allrows\u001b[39m(\u001b[38;5;28mself\u001b[39m) \u001b[38;5;241m-\u001b[39m\u001b[38;5;241m>\u001b[39m List[_R]:\n\u001b[1;32m    525\u001b[0m     post_creational_filter \u001b[38;5;241m=\u001b[39m \u001b[38;5;28mself\u001b[39m\u001b[38;5;241m.\u001b[39m_post_creational_filter\n\u001b[0;32m--> 527\u001b[0m     make_row \u001b[38;5;241m=\u001b[39m \u001b[38;5;28;43mself\u001b[39;49m\u001b[38;5;241;43m.\u001b[39;49m\u001b[43m_row_getter\u001b[49m\n\u001b[1;32m    529\u001b[0m     rows \u001b[38;5;241m=\u001b[39m \u001b[38;5;28mself\u001b[39m\u001b[38;5;241m.\u001b[39m_fetchall_impl()\n\u001b[1;32m    530\u001b[0m     made_rows: List[_InterimRowType[_R]]\n",
      "File \u001b[0;32m~/.pyenv/versions/3.9.15/lib/python3.9/site-packages/sqlalchemy/util/langhelpers.py:1254\u001b[0m, in \u001b[0;36mHasMemoized.memoized_attribute.__get__\u001b[0;34m(self, obj, cls)\u001b[0m\n\u001b[1;32m   1252\u001b[0m \u001b[38;5;28;01mif\u001b[39;00m obj \u001b[38;5;129;01mis\u001b[39;00m \u001b[38;5;28;01mNone\u001b[39;00m:\n\u001b[1;32m   1253\u001b[0m     \u001b[38;5;28;01mreturn\u001b[39;00m \u001b[38;5;28mself\u001b[39m\n\u001b[0;32m-> 1254\u001b[0m obj\u001b[38;5;241m.\u001b[39m\u001b[38;5;18m__dict__\u001b[39m[\u001b[38;5;28mself\u001b[39m\u001b[38;5;241m.\u001b[39m\u001b[38;5;18m__name__\u001b[39m] \u001b[38;5;241m=\u001b[39m result \u001b[38;5;241m=\u001b[39m \u001b[38;5;28;43mself\u001b[39;49m\u001b[38;5;241;43m.\u001b[39;49m\u001b[43mfget\u001b[49m\u001b[43m(\u001b[49m\u001b[43mobj\u001b[49m\u001b[43m)\u001b[49m\n\u001b[1;32m   1255\u001b[0m obj\u001b[38;5;241m.\u001b[39m_memoized_keys \u001b[38;5;241m|\u001b[39m\u001b[38;5;241m=\u001b[39m {\u001b[38;5;28mself\u001b[39m\u001b[38;5;241m.\u001b[39m\u001b[38;5;18m__name__\u001b[39m}\n\u001b[1;32m   1256\u001b[0m \u001b[38;5;28;01mreturn\u001b[39;00m result\n",
      "File \u001b[0;32m~/.pyenv/versions/3.9.15/lib/python3.9/site-packages/sqlalchemy/engine/result.py:441\u001b[0m, in \u001b[0;36mResultInternal._row_getter\u001b[0;34m(self)\u001b[0m\n\u001b[1;32m    438\u001b[0m key_style \u001b[38;5;241m=\u001b[39m Row\u001b[38;5;241m.\u001b[39m_default_key_style\n\u001b[1;32m    439\u001b[0m metadata \u001b[38;5;241m=\u001b[39m \u001b[38;5;28mself\u001b[39m\u001b[38;5;241m.\u001b[39m_metadata\n\u001b[0;32m--> 441\u001b[0m keymap \u001b[38;5;241m=\u001b[39m \u001b[43mmetadata\u001b[49m\u001b[38;5;241;43m.\u001b[39;49m\u001b[43m_keymap\u001b[49m\n\u001b[1;32m    442\u001b[0m processors \u001b[38;5;241m=\u001b[39m metadata\u001b[38;5;241m.\u001b[39m_processors\n\u001b[1;32m    443\u001b[0m tf \u001b[38;5;241m=\u001b[39m metadata\u001b[38;5;241m.\u001b[39m_tuplefilter\n",
      "File \u001b[0;32m~/.pyenv/versions/3.9.15/lib/python3.9/site-packages/sqlalchemy/engine/cursor.py:1360\u001b[0m, in \u001b[0;36m_NoResultMetaData._keymap\u001b[0;34m(self)\u001b[0m\n\u001b[1;32m   1358\u001b[0m \u001b[38;5;129m@property\u001b[39m\n\u001b[1;32m   1359\u001b[0m \u001b[38;5;28;01mdef\u001b[39;00m \u001b[38;5;21m_keymap\u001b[39m(\u001b[38;5;28mself\u001b[39m):\n\u001b[0;32m-> 1360\u001b[0m     \u001b[38;5;28;43mself\u001b[39;49m\u001b[38;5;241;43m.\u001b[39;49m\u001b[43m_we_dont_return_rows\u001b[49m\u001b[43m(\u001b[49m\u001b[43m)\u001b[49m\n",
      "File \u001b[0;32m~/.pyenv/versions/3.9.15/lib/python3.9/site-packages/sqlalchemy/engine/cursor.py:1344\u001b[0m, in \u001b[0;36m_NoResultMetaData._we_dont_return_rows\u001b[0;34m(self, err)\u001b[0m\n\u001b[1;32m   1343\u001b[0m \u001b[38;5;28;01mdef\u001b[39;00m \u001b[38;5;21m_we_dont_return_rows\u001b[39m(\u001b[38;5;28mself\u001b[39m, err\u001b[38;5;241m=\u001b[39m\u001b[38;5;28;01mNone\u001b[39;00m):\n\u001b[0;32m-> 1344\u001b[0m     \u001b[38;5;28;01mraise\u001b[39;00m exc\u001b[38;5;241m.\u001b[39mResourceClosedError(\n\u001b[1;32m   1345\u001b[0m         \u001b[38;5;124m\"\u001b[39m\u001b[38;5;124mThis result object does not return rows. \u001b[39m\u001b[38;5;124m\"\u001b[39m\n\u001b[1;32m   1346\u001b[0m         \u001b[38;5;124m\"\u001b[39m\u001b[38;5;124mIt has been closed automatically.\u001b[39m\u001b[38;5;124m\"\u001b[39m\n\u001b[1;32m   1347\u001b[0m     ) \u001b[38;5;28;01mfrom\u001b[39;00m \u001b[38;5;21;01merr\u001b[39;00m\n",
      "\u001b[0;31mResourceClosedError\u001b[0m: This result object does not return rows. It has been closed automatically."
     ]
    }
   ],
   "source": [
    "rows = [\n",
    "    {\"name\": \"nate\", \"age\": 40},\n",
    "    {\"name\": \"kyle\", \"age\": 25},\n",
    "]\n",
    "\n",
    "result = insert_rows(tb, rows)"
   ]
  },
  {
   "cell_type": "code",
   "execution_count": null,
   "id": "bce939e3",
   "metadata": {},
   "outputs": [],
   "source": [
    "# Design ideas\n",
    "\"\"\"\n",
    "# database insert & update\n",
    "1. primary key = project_name + rule_name + date(day)\n",
    "2. Create a dev_data_monitor.db when using \"data-monitor init\"\n",
    "3. The entry_point provides flag load_to_db=True, env=dev\n",
    "4. When record is sent to db, it upserts the records (update on conflict)\n",
    "\n",
    "# retrieve data\n",
    "1. A utility class (using db client, e.g., TestDbClient)\n",
    "  test_db_client = SQLDBClient(host=\"sqlite\")\n",
    "\"\"\""
   ]
  },
  {
   "cell_type": "code",
   "execution_count": null,
   "id": "11bb24a1",
   "metadata": {},
   "outputs": [],
   "source": [
    "rows = [\n",
    "    {\"id\":1, \"name\": \"Hey\", \"age\": 2},\n",
    "    {\"id\":2, \"name\": \"Kyle\", \"age\": 10},\n",
    "]\n",
    "\n",
    "\n",
    "upsert(tb, rows)"
   ]
  },
  {
   "cell_type": "markdown",
   "id": "c9e237dc",
   "metadata": {},
   "source": [
    "## Use ORM (maybe better way for insert?)"
   ]
  },
  {
   "cell_type": "code",
   "execution_count": null,
   "id": "7875030b",
   "metadata": {},
   "outputs": [],
   "source": [
    "from sqlalchemy import create_engine, Column, Integer, String\n",
    "# from sqlalchemy.ext.declarative import declarative_base\n",
    "from sqlalchemy.orm import sessionmaker, declarative_base\n",
    "\n",
    "engine = create_engine('sqlite:///data_monitor.db', echo = True)\n",
    "\n",
    "Base = declarative_base()\n",
    "\n",
    "\n",
    "class DataMonitor(Base):\n",
    "    __tablename__ = \"data_monitor\"\n",
    "    id = Column(String, primary_key=True)\n",
    "    field_name = Column(String)\n",
    "    value = Column(Integer)\n",
    "    rule_name = Column(String)\n",
    "    \n",
    "Base.metadata.create_all(engine)"
   ]
  },
  {
   "cell_type": "code",
   "execution_count": null,
   "id": "c9b63b58",
   "metadata": {},
   "outputs": [],
   "source": [
    "Session = sessionmaker(bind=engine)\n",
    "session = Session()"
   ]
  },
  {
   "cell_type": "code",
   "execution_count": null,
   "id": "354cb5d8",
   "metadata": {},
   "outputs": [],
   "source": [
    "field_name = \"shares\"\n",
    "value = 10\n",
    "rule_name = \"shares_check\"\n",
    "primary_key = \"|\".join([field_name, rule_name])\n",
    "new_row = DataMonitor(id=primary_key, field_name=field_name, value=value, rule_name=rule_name)\n",
    "session.add(new_row)\n",
    "session.commit()"
   ]
  },
  {
   "cell_type": "code",
   "execution_count": null,
   "id": "0752b2f8",
   "metadata": {},
   "outputs": [],
   "source": [
    "session.get(DataMonitor, \"shares|shares_check\").field_name"
   ]
  },
  {
   "cell_type": "code",
   "execution_count": null,
   "id": "c7faee51",
   "metadata": {},
   "outputs": [],
   "source": [
    "session.close()"
   ]
  },
  {
   "cell_type": "code",
   "execution_count": null,
   "id": "0e315106",
   "metadata": {},
   "outputs": [],
   "source": [
    "rows = [\n",
    "    {\"name\":\"Shin\", \"age\":20},\n",
    "    {\"name\":\"Shin\", \"age\":20},\n",
    "    {\"name\":\"Shin\", \"age\":20},\n",
    "]\n",
    "\n",
    "for row in rows:\n",
    "    session.add(DataMonitor(**row))\n",
    "session.commit()"
   ]
  },
  {
   "cell_type": "code",
   "execution_count": null,
   "id": "8ef0d33f",
   "metadata": {},
   "outputs": [],
   "source": [
    "session.commit()"
   ]
  },
  {
   "cell_type": "code",
   "execution_count": null,
   "id": "bb6ddf53",
   "metadata": {
    "scrolled": true
   },
   "outputs": [],
   "source": [
    "session.get(DataMonitor, 3).age"
   ]
  },
  {
   "cell_type": "markdown",
   "id": "93d849d7",
   "metadata": {},
   "source": [
    "# Use ORM to get a row as an object"
   ]
  },
  {
   "cell_type": "code",
   "execution_count": null,
   "id": "84ea6b77",
   "metadata": {},
   "outputs": [],
   "source": [
    "from sqlalchemy import create_engine, Column, Integer, String\n",
    "# from sqlalchemy.ext.declarative import declarative_base\n",
    "from sqlalchemy.orm import sessionmaker, declarative_base\n",
    "\n",
    "engine = create_engine('sqlite:///test.db', echo = True)\n",
    "\n",
    "Base = declarative_base()\n",
    "\n",
    "\n",
    "class TestTable4(Base):\n",
    "    __tablename__ = \"test_table_4\"\n",
    "    id = Column(Integer, primary_key=True)\n",
    "    name = Column('name', String) \n",
    "    age = Column('age', String)\n",
    "    \n",
    "Session = sessionmaker(bind=engine)\n",
    "session = Session()\n",
    "session.get(TestTable4, 10).name"
   ]
  },
  {
   "cell_type": "code",
   "execution_count": null,
   "id": "9c7967bd",
   "metadata": {},
   "outputs": [],
   "source": [
    "session.close()"
   ]
  },
  {
   "cell_type": "code",
   "execution_count": null,
   "id": "e2e368ce",
   "metadata": {},
   "outputs": [],
   "source": []
  }
 ],
 "metadata": {
  "kernelspec": {
   "display_name": "Python 3 (ipykernel)",
   "language": "python",
   "name": "python3"
  },
  "language_info": {
   "codemirror_mode": {
    "name": "ipython",
    "version": 3
   },
   "file_extension": ".py",
   "mimetype": "text/x-python",
   "name": "python",
   "nbconvert_exporter": "python",
   "pygments_lexer": "ipython3",
   "version": "3.9.15"
  }
 },
 "nbformat": 4,
 "nbformat_minor": 5
}
