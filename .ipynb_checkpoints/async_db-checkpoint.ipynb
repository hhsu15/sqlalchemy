{
 "cells": [
  {
   "cell_type": "markdown",
   "id": "f64abbdd",
   "metadata": {},
   "source": [
    "# Implement Concurrency\n",
    "1. Create the async engine for db client (Async sqlalchemy)\n",
    "2. FastAPI async endpoint"
   ]
  },
  {
   "cell_type": "code",
   "execution_count": 1,
   "id": "8100d7cf",
   "metadata": {},
   "outputs": [],
   "source": [
    "import asyncio"
   ]
  },
  {
   "cell_type": "code",
   "execution_count": null,
   "id": "ec9ea216",
   "metadata": {},
   "outputs": [],
   "source": []
  },
  {
   "cell_type": "code",
   "execution_count": 2,
   "id": "2cd62232",
   "metadata": {},
   "outputs": [],
   "source": [
    "# Impletement concurrency\n",
    "# sqlachemy use async engine \n",
    "# "
   ]
  },
  {
   "cell_type": "code",
   "execution_count": 11,
   "id": "cb95a1a1",
   "metadata": {},
   "outputs": [],
   "source": [
    "def mygen():\n",
    "    yield 1\n",
    "    yield 2\n",
    "    yield 3"
   ]
  },
  {
   "cell_type": "code",
   "execution_count": 13,
   "id": "e25aa976",
   "metadata": {},
   "outputs": [],
   "source": [
    "def somegen():\n",
    "    yield from mygen()"
   ]
  },
  {
   "cell_type": "code",
   "execution_count": 14,
   "id": "bcf03d6a",
   "metadata": {},
   "outputs": [],
   "source": [
    "s = somegen()"
   ]
  },
  {
   "cell_type": "code",
   "execution_count": null,
   "id": "61facdfc",
   "metadata": {},
   "outputs": [],
   "source": []
  }
 ],
 "metadata": {
  "kernelspec": {
   "display_name": "Python 3 (ipykernel)",
   "language": "python",
   "name": "python3"
  },
  "language_info": {
   "codemirror_mode": {
    "name": "ipython",
    "version": 3
   },
   "file_extension": ".py",
   "mimetype": "text/x-python",
   "name": "python",
   "nbconvert_exporter": "python",
   "pygments_lexer": "ipython3",
   "version": "3.9.15"
  }
 },
 "nbformat": 4,
 "nbformat_minor": 5
}
