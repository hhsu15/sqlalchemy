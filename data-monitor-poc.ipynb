{
 "cells": [
  {
   "cell_type": "markdown",
   "id": "e2bf98a2",
   "metadata": {},
   "source": [
    "## Complete Code"
   ]
  },
  {
   "cell_type": "code",
   "execution_count": null,
   "id": "92297a66",
   "metadata": {},
   "outputs": [],
   "source": [
    "from sqlalchemy import create_engine\n",
    "from sqlalchemy import Table, Column, Integer, String\n",
    "from sqlalchemy import MetaData\n",
    "from sqlalchemy import insert\n",
    "from sqlalchemy import text\n",
    "from sqlalchemy import update\n",
    "from sqlalchemy import exc\n",
    "\n",
    "\n",
    "def make_tb(engine, tb_name, columns):\n",
    "    meta = MetaData()\n",
    "    # create a table object called students\n",
    "    tb = Table(\n",
    "        tb_name,\n",
    "        meta, # the metadata obj to hold this table info\n",
    "        *columns    \n",
    "    )\n",
    "\n",
    "    meta.create_all(engine)\n",
    "    return tb\n",
    "\n",
    "    \n",
    "def insert_rows(tb, rows) -> bool:\n",
    "    result = None\n",
    "    with engine.connect() as conn:\n",
    "        ins = tb.insert().values(rows)\n",
    "        conn.commit()\n",
    "        return True\n",
    "    return False\n",
    "\n",
    "    \n",
    "def upsert_all(tb, rows) -> bool:\n",
    "    \"\"\"On insert conflict do update.\"\"\"\n",
    "    upsert_success = False\n",
    "    conn = engine.connect()\n",
    "    for row in rows:\n",
    "        upsert_one(conn, tb, row)\n",
    "\n",
    "    if upsert_success:            \n",
    "        conn.commit()\n",
    "        \n",
    "    conn.close()\n",
    "    return result\n",
    "\n",
    "def upsert_one(conn, tb, row):\n",
    "    upsert_success = False\n",
    "    try:\n",
    "        ins = tb.insert().values(**row)\n",
    "        conn.execute(ins)\n",
    "        upsert_success = True\n",
    "        print(\"Insert succeeded\")\n",
    "    except (exc.IntegrityError, Exception) as err:\n",
    "        print(\"Insert Error:\", err)\n",
    "        try:\n",
    "            upd = tb.update().where(tb.c.id==row['id']).values(**row)\n",
    "            conn.execute(upd)\n",
    "            upsert_success = True\n",
    "            print(\"Update succeeded\")\n",
    "        except Exception as err:\n",
    "            print(\"Update Error:\", err)\n",
    "            upsert_success = False\n",
    "            \n",
    "    return upsert_success\n",
    "\n",
    "\n",
    "\n",
    "\n",
    "    \n",
    "# run code\n",
    "\n",
    "engine = create_engine('sqlite:///test.db', echo=True)\n",
    "\n",
    "columns = [\n",
    "    Column('id', Integer, primary_key=True), \n",
    "    Column('name', String), \n",
    "    Column('age', String), \n",
    "]\n",
    "\n",
    "\n",
    "tb_name = \"test_table_4\"\n",
    "\n",
    "tb = make_tb(engine, tb_name, columns)"
   ]
  },
  {
   "cell_type": "code",
   "execution_count": null,
   "id": "8025b472",
   "metadata": {},
   "outputs": [],
   "source": [
    "# Design ideas\n",
    "\"\"\"\n",
    "# database insert & update\n",
    "1. primary key = project_name + rule_name + date(day)\n",
    "2. Create a dev_data_monitor.db when using \"data-monitor init\"\n",
    "3. The entry_point provides flag load_to_db=True, env=dev\n",
    "4. When record is sent to db, it upserts the records (update on conflict)\n",
    "\n",
    "# retrieve data\n",
    "1. A utility class (using db client, e.g., TestDbClient)\n",
    "  test_db_client = SQLDBClient(host=\"sqlite\")\n",
    "\"\"\""
   ]
  },
  {
   "cell_type": "code",
   "execution_count": null,
   "id": "ffaecf53",
   "metadata": {},
   "outputs": [],
   "source": [
    "rows = [\n",
    "    {\"id\":1, \"name\": \"Hey\", \"age\": 2},\n",
    "    {\"id\":2, \"name\": \"Kyle\", \"age\": 10},\n",
    "]\n",
    "\n",
    "with engine.connect() as conn:\n",
    "    if upsert_one(conn, tb, rows[0]):\n",
    "        conn.commit()"
   ]
  },
  {
   "cell_type": "code",
   "execution_count": null,
   "id": "55428180",
   "metadata": {},
   "outputs": [],
   "source": [
    "conn =  engine.connect()"
   ]
  },
  {
   "cell_type": "code",
   "execution_count": null,
   "id": "79343095",
   "metadata": {},
   "outputs": [],
   "source": [
    "qry = \"\"\"\n",
    "select * from test_table_4\n",
    "\"\"\"\n",
    "\n",
    "cursor = conn.execute(text(qry))"
   ]
  },
  {
   "cell_type": "code",
   "execution_count": null,
   "id": "45cc5983",
   "metadata": {},
   "outputs": [],
   "source": [
    "data = cursor.fetchall()"
   ]
  },
  {
   "cell_type": "code",
   "execution_count": null,
   "id": "16aa7e03",
   "metadata": {},
   "outputs": [],
   "source": [
    "data"
   ]
  },
  {
   "cell_type": "markdown",
   "id": "e65248c2",
   "metadata": {},
   "source": [
    "## Use ORM (maybe better way for insert?)"
   ]
  },
  {
   "cell_type": "code",
   "execution_count": null,
   "id": "f513978a",
   "metadata": {},
   "outputs": [],
   "source": [
    "from sqlalchemy import create_engine, Column, Integer, String\n",
    "# from sqlalchemy.ext.declarative import declarative_base\n",
    "from sqlalchemy.orm import sessionmaker, declarative_base\n",
    "\n",
    "engine = create_engine('sqlite:///data_monitor.db', echo = True)\n",
    "\n",
    "Base = declarative_base()\n",
    "\n",
    "\n",
    "class DataMonitor(Base):\n",
    "    __tablename__ = \"data_monitor\"\n",
    "    id = Column(String, primary_key=True)\n",
    "    field_name = Column(String)\n",
    "    value = Column(Integer)\n",
    "    rule_name = Column(String)\n",
    "    \n",
    "Base.metadata.create_all(engine)"
   ]
  },
  {
   "cell_type": "code",
   "execution_count": null,
   "id": "d114e72b",
   "metadata": {},
   "outputs": [],
   "source": [
    "Session = sessionmaker(bind=engine)\n",
    "session = Session()"
   ]
  },
  {
   "cell_type": "code",
   "execution_count": null,
   "id": "78da9181",
   "metadata": {},
   "outputs": [],
   "source": [
    "field_name = \"shares\"\n",
    "value = 10\n",
    "rule_name = \"shares_check\"\n",
    "primary_key = \"|\".join([field_name, rule_name])\n",
    "new_row = DataMonitor(id=primary_key, field_name=field_name, value=value, rule_name=rule_name)\n",
    "session.add(new_row)\n",
    "session.commit()"
   ]
  },
  {
   "cell_type": "code",
   "execution_count": null,
   "id": "51d04c56",
   "metadata": {},
   "outputs": [],
   "source": [
    "session.get(DataMonitor, \"shares|shares_check\").field_name"
   ]
  },
  {
   "cell_type": "code",
   "execution_count": null,
   "id": "11e746cb",
   "metadata": {},
   "outputs": [],
   "source": [
    "session.close()"
   ]
  },
  {
   "cell_type": "code",
   "execution_count": null,
   "id": "db387233",
   "metadata": {},
   "outputs": [],
   "source": [
    "rows = [\n",
    "    {\"name\":\"Shin\", \"age\":20},\n",
    "    {\"name\":\"Shin\", \"age\":20},\n",
    "    {\"name\":\"Shin\", \"age\":20},\n",
    "]\n",
    "\n",
    "for row in rows:\n",
    "    session.add(DataMonitor(**row))\n",
    "session.commit()"
   ]
  },
  {
   "cell_type": "code",
   "execution_count": null,
   "id": "494c32af",
   "metadata": {},
   "outputs": [],
   "source": [
    "session.commit()"
   ]
  },
  {
   "cell_type": "code",
   "execution_count": null,
   "id": "31e4bf4f",
   "metadata": {
    "scrolled": true
   },
   "outputs": [],
   "source": [
    "session.get(DataMonitor, 3).age"
   ]
  },
  {
   "cell_type": "markdown",
   "id": "f0d6009b",
   "metadata": {},
   "source": [
    "# Use ORM to get a row as an object"
   ]
  },
  {
   "cell_type": "code",
   "execution_count": null,
   "id": "bae49488",
   "metadata": {},
   "outputs": [],
   "source": [
    "from sqlalchemy import create_engine, Column, Integer, String\n",
    "# from sqlalchemy.ext.declarative import declarative_base\n",
    "from sqlalchemy.orm import sessionmaker, declarative_base\n",
    "\n",
    "engine = create_engine('sqlite:///test.db', echo = True)\n",
    "\n",
    "Base = declarative_base()\n",
    "\n",
    "\n",
    "class TestTable4(Base):\n",
    "    __tablename__ = \"test_table_4\"\n",
    "    id = Column(Integer, primary_key=True)\n",
    "    name = Column('name', String) \n",
    "    age = Column('age', String)\n",
    "    \n",
    "Session = sessionmaker(bind=engine)\n",
    "session = Session()\n",
    "session.get(TestTable4, 10).name"
   ]
  },
  {
   "cell_type": "code",
   "execution_count": null,
   "id": "e18b5793",
   "metadata": {},
   "outputs": [],
   "source": [
    "session.close()"
   ]
  },
  {
   "cell_type": "code",
   "execution_count": null,
   "id": "f5a4392f",
   "metadata": {},
   "outputs": [],
   "source": [
    "from jinja2 import environment\n",
    "import re"
   ]
  },
  {
   "cell_type": "code",
   "execution_count": null,
   "id": "3127765f",
   "metadata": {},
   "outputs": [],
   "source": [
    "string = \"\"\"\n",
    "//some stuff\n",
    "set @x = {{ x | default (20)}}\n",
    "aefefwefe\n",
    "\n",
    "set @y = {{y|default(30)}}\n",
    "\"\"\"\n",
    "vars = [\"x\", \"y\"]\n",
    "var_str = \"|\".join([v for v in vars])\n",
    "reg = f\"({var_str})\\s*\\|\\s*default\\s*\\((\\w*)\\)\""
   ]
  },
  {
   "cell_type": "code",
   "execution_count": null,
   "id": "eca9aaf2",
   "metadata": {},
   "outputs": [],
   "source": [
    "reg"
   ]
  },
  {
   "cell_type": "code",
   "execution_count": null,
   "id": "2e49f749",
   "metadata": {},
   "outputs": [],
   "source": [
    "itr = re.findall(reg, string, re.MULTILINE)"
   ]
  },
  {
   "cell_type": "code",
   "execution_count": null,
   "id": "f54f268f",
   "metadata": {},
   "outputs": [],
   "source": [
    "for i in itr:\n",
    "    print(i)"
   ]
  },
  {
   "cell_type": "code",
   "execution_count": null,
   "id": "f903ed19",
   "metadata": {},
   "outputs": [],
   "source": []
  },
  {
   "cell_type": "code",
   "execution_count": null,
   "id": "cae214c9",
   "metadata": {},
   "outputs": [],
   "source": [
    "class MyClass:\n",
    "    def __init__(self):\n",
    "        pass\n",
    "    \n",
    "    def __call__(self, a:str):\n",
    "        return a\n"
   ]
  },
  {
   "cell_type": "code",
   "execution_count": null,
   "id": "e8b9b025",
   "metadata": {},
   "outputs": [],
   "source": [
    "m = MyClass()"
   ]
  },
  {
   "cell_type": "code",
   "execution_count": null,
   "id": "41d8e716",
   "metadata": {},
   "outputs": [],
   "source": [
    "def my_func(a:str, b:int):\n",
    "    return a"
   ]
  },
  {
   "cell_type": "code",
   "execution_count": null,
   "id": "004eba9a",
   "metadata": {},
   "outputs": [],
   "source": [
    "import singleton"
   ]
  },
  {
   "cell_type": "code",
   "execution_count": null,
   "id": "e1e8f447",
   "metadata": {},
   "outputs": [],
   "source": [
    "class Engine:\n",
    "    \n",
    "    def __new__(cls, *args):\n",
    "        if not hasattr(cls, \"instance\"):\n",
    "            print(\"create instance\", cls)\n",
    "            cls.instance = super().__new__(cls)\n",
    "        return cls.instance\n",
    "    \n",
    "    def __init__(self, a, b):\n",
    "        print(\"instance created\")\n",
    "        self.a = a\n",
    "        self.b = b\n",
    "    \n",
    "    "
   ]
  },
  {
   "cell_type": "code",
   "execution_count": null,
   "id": "08fc439b",
   "metadata": {},
   "outputs": [],
   "source": [
    "a = Engine(1, 2)"
   ]
  },
  {
   "cell_type": "code",
   "execution_count": null,
   "id": "a95e75dd",
   "metadata": {},
   "outputs": [],
   "source": [
    "b = Engine(3, 4)"
   ]
  },
  {
   "cell_type": "code",
   "execution_count": null,
   "id": "7fca4f25",
   "metadata": {},
   "outputs": [],
   "source": [
    "a.a"
   ]
  },
  {
   "cell_type": "code",
   "execution_count": null,
   "id": "1461793a",
   "metadata": {},
   "outputs": [],
   "source": [
    "b.a"
   ]
  },
  {
   "cell_type": "code",
   "execution_count": null,
   "id": "66542717",
   "metadata": {},
   "outputs": [],
   "source": [
    "b.number"
   ]
  },
  {
   "cell_type": "code",
   "execution_count": 2,
   "id": "87408ed2",
   "metadata": {},
   "outputs": [
    {
     "data": {
      "text/plain": [
       "{'__name__': '__main__',\n",
       " '__doc__': 'Automatically created module for IPython interactive environment',\n",
       " '__package__': None,\n",
       " '__loader__': None,\n",
       " '__spec__': None,\n",
       " '__builtin__': <module 'builtins' (built-in)>,\n",
       " '__builtins__': <module 'builtins' (built-in)>,\n",
       " '_ih': ['', 'vars', 'vars()'],\n",
       " '_oh': {1: <function vars>},\n",
       " '_dh': [PosixPath('/Users/hsin/git/sqlalchemy')],\n",
       " 'In': ['', 'vars', 'vars()'],\n",
       " 'Out': {1: <function vars>},\n",
       " 'get_ipython': <bound method InteractiveShell.get_ipython of <ipykernel.zmqshell.ZMQInteractiveShell object at 0x10be4f6a0>>,\n",
       " 'exit': <IPython.core.autocall.ZMQExitAutocall at 0x10be4feb0>,\n",
       " 'quit': <IPython.core.autocall.ZMQExitAutocall at 0x10be4feb0>,\n",
       " 'open': <function io.open(file, mode='r', buffering=-1, encoding=None, errors=None, newline=None, closefd=True, opener=None)>,\n",
       " '_': <function vars>,\n",
       " '__': '',\n",
       " '___': '',\n",
       " '_i': 'vars',\n",
       " '_ii': '',\n",
       " '_iii': '',\n",
       " '_i1': 'vars',\n",
       " '_1': <function vars>,\n",
       " '_i2': 'vars()'}"
      ]
     },
     "execution_count": 2,
     "metadata": {},
     "output_type": "execute_result"
    }
   ],
   "source": [
    "vars()"
   ]
  },
  {
   "cell_type": "code",
   "execution_count": 3,
   "id": "2b158532",
   "metadata": {},
   "outputs": [
    {
     "data": {
      "text/plain": [
       "{'__name__': '__main__',\n",
       " '__doc__': 'Automatically created module for IPython interactive environment',\n",
       " '__package__': None,\n",
       " '__loader__': None,\n",
       " '__spec__': None,\n",
       " '__builtin__': <module 'builtins' (built-in)>,\n",
       " '__builtins__': <module 'builtins' (built-in)>,\n",
       " '_ih': ['', 'vars', 'vars()', 'globals()'],\n",
       " '_oh': {1: <function vars>, 2: {...}},\n",
       " '_dh': [PosixPath('/Users/hsin/git/sqlalchemy')],\n",
       " 'In': ['', 'vars', 'vars()', 'globals()'],\n",
       " 'Out': {1: <function vars>, 2: {...}},\n",
       " 'get_ipython': <bound method InteractiveShell.get_ipython of <ipykernel.zmqshell.ZMQInteractiveShell object at 0x10be4f6a0>>,\n",
       " 'exit': <IPython.core.autocall.ZMQExitAutocall at 0x10be4feb0>,\n",
       " 'quit': <IPython.core.autocall.ZMQExitAutocall at 0x10be4feb0>,\n",
       " 'open': <function io.open(file, mode='r', buffering=-1, encoding=None, errors=None, newline=None, closefd=True, opener=None)>,\n",
       " '_': {...},\n",
       " '__': <function vars>,\n",
       " '___': '',\n",
       " '_i': 'vars()',\n",
       " '_ii': 'vars',\n",
       " '_iii': '',\n",
       " '_i1': 'vars',\n",
       " '_1': <function vars>,\n",
       " '_i2': 'vars()',\n",
       " '_2': {...},\n",
       " '_i3': 'globals()'}"
      ]
     },
     "execution_count": 3,
     "metadata": {},
     "output_type": "execute_result"
    }
   ],
   "source": [
    "globals()"
   ]
  },
  {
   "cell_type": "code",
   "execution_count": 7,
   "id": "9a265fbc",
   "metadata": {},
   "outputs": [
    {
     "name": "stdout",
     "output_type": "stream",
     "text": [
      "print(Hello world)\n"
     ]
    }
   ],
   "source": [
    "print(\"print(Hello world)\")"
   ]
  },
  {
   "cell_type": "code",
   "execution_count": null,
   "id": "7c8e03dd",
   "metadata": {},
   "outputs": [],
   "source": []
  }
 ],
 "metadata": {
  "kernelspec": {
   "display_name": "Python 3 (ipykernel)",
   "language": "python",
   "name": "python3"
  },
  "language_info": {
   "codemirror_mode": {
    "name": "ipython",
    "version": 3
   },
   "file_extension": ".py",
   "mimetype": "text/x-python",
   "name": "python",
   "nbconvert_exporter": "python",
   "pygments_lexer": "ipython3",
   "version": "3.9.15"
  }
 },
 "nbformat": 4,
 "nbformat_minor": 5
}
